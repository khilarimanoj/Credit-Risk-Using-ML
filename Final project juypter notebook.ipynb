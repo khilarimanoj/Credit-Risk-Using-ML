{
 "cells": [
  {
   "cell_type": "markdown",
   "metadata": {},
   "source": [
    "# Import library"
   ]
  },
  {
   "cell_type": "code",
   "execution_count": 29,
   "metadata": {},
   "outputs": [],
   "source": [
    "import pandas as pd\n",
    "import numpy as np\n",
    "import matplotlib.pyplot as plt \n",
    "import seaborn as sns \n",
    "sns.set(style=\"white\")\n",
    "sns.set(style=\"ticks\", color_codes=True)\n"
   ]
  },
  {
   "cell_type": "markdown",
   "metadata": {},
   "source": [
    "# Importing Data file "
   ]
  },
  {
   "cell_type": "code",
   "execution_count": 30,
   "metadata": {
    "scrolled": true
   },
   "outputs": [
    {
     "name": "stderr",
     "output_type": "stream",
     "text": [
      "C:\\Users\\users1\\Anaconda3\\lib\\site-packages\\IPython\\core\\interactiveshell.py:2785: DtypeWarning: Columns (17,45,53) have mixed types. Specify dtype option on import or set low_memory=False.\n",
      "  interactivity=interactivity, compiler=compiler, result=result)\n"
     ]
    }
   ],
   "source": [
    "data=pd.read_csv(r'D:/Document/Python Scripts/XYZCorp_LendingData.txt',delimiter='\\t',parse_dates=[\"issue_d\"])"
   ]
  },
  {
   "cell_type": "code",
   "execution_count": 31,
   "metadata": {},
   "outputs": [
    {
     "name": "stdout",
     "output_type": "stream",
     "text": [
      "(855969, 73)\n",
      "id                                      int64\n",
      "member_id                               int64\n",
      "loan_amnt                             float64\n",
      "funded_amnt                           float64\n",
      "funded_amnt_inv                       float64\n",
      "term                                   object\n",
      "int_rate                              float64\n",
      "installment                           float64\n",
      "grade                                  object\n",
      "sub_grade                              object\n",
      "emp_title                              object\n",
      "emp_length                             object\n",
      "home_ownership                         object\n",
      "annual_inc                            float64\n",
      "verification_status                    object\n",
      "issue_d                        datetime64[ns]\n",
      "pymnt_plan                             object\n",
      "desc                                   object\n",
      "purpose                                object\n",
      "title                                  object\n",
      "zip_code                               object\n",
      "addr_state                             object\n",
      "dti                                   float64\n",
      "delinq_2yrs                           float64\n",
      "earliest_cr_line                       object\n",
      "inq_last_6mths                        float64\n",
      "mths_since_last_delinq                float64\n",
      "mths_since_last_record                float64\n",
      "open_acc                              float64\n",
      "pub_rec                               float64\n",
      "                                    ...      \n",
      "last_pymnt_d                           object\n",
      "last_pymnt_amnt                       float64\n",
      "next_pymnt_d                           object\n",
      "last_credit_pull_d                     object\n",
      "collections_12_mths_ex_med            float64\n",
      "mths_since_last_major_derog           float64\n",
      "policy_code                           float64\n",
      "application_type                       object\n",
      "annual_inc_joint                      float64\n",
      "dti_joint                             float64\n",
      "verification_status_joint              object\n",
      "acc_now_delinq                        float64\n",
      "tot_coll_amt                          float64\n",
      "tot_cur_bal                           float64\n",
      "open_acc_6m                           float64\n",
      "open_il_6m                            float64\n",
      "open_il_12m                           float64\n",
      "open_il_24m                           float64\n",
      "mths_since_rcnt_il                    float64\n",
      "total_bal_il                          float64\n",
      "il_util                               float64\n",
      "open_rv_12m                           float64\n",
      "open_rv_24m                           float64\n",
      "max_bal_bc                            float64\n",
      "all_util                              float64\n",
      "total_rev_hi_lim                      float64\n",
      "inq_fi                                float64\n",
      "total_cu_tl                           float64\n",
      "inq_last_12m                          float64\n",
      "default_ind                             int64\n",
      "Length: 73, dtype: object\n",
      "                 id     member_id      loan_amnt    funded_amnt  \\\n",
      "count  8.559690e+05  8.559690e+05  855969.000000  855969.000000   \n",
      "mean   3.224073e+07  3.476269e+07   14745.571335   14732.378305   \n",
      "std    2.271969e+07  2.399418e+07    8425.340005    8419.471653   \n",
      "min    5.473400e+04  7.069900e+04     500.000000     500.000000   \n",
      "25%    9.067986e+06  1.079273e+07    8000.000000    8000.000000   \n",
      "50%    3.431355e+07  3.697532e+07   13000.000000   13000.000000   \n",
      "75%    5.446311e+07  5.803559e+07   20000.000000   20000.000000   \n",
      "max    6.861687e+07  7.351969e+07   35000.000000   35000.000000   \n",
      "\n",
      "       funded_amnt_inv       int_rate    installment    annual_inc  \\\n",
      "count    855969.000000  855969.000000  855969.000000  8.559690e+05   \n",
      "mean      14700.061226      13.192320     436.238072  7.507119e+04   \n",
      "std        8425.805478       4.368365     243.726876  6.426447e+04   \n",
      "min           0.000000       5.320000      15.690000  0.000000e+00   \n",
      "25%        8000.000000       9.990000     260.550000  4.500000e+04   \n",
      "50%       13000.000000      12.990000     382.550000  6.500000e+04   \n",
      "75%       20000.000000      15.990000     571.560000  9.000000e+04   \n",
      "max       35000.000000      28.990000    1445.460000  9.500000e+06   \n",
      "\n",
      "                 dti    delinq_2yrs      ...             il_util  \\\n",
      "count  855969.000000  855969.000000      ...        11609.000000   \n",
      "mean       18.122165       0.311621      ...           71.486993   \n",
      "std        17.423629       0.857189      ...           23.015293   \n",
      "min         0.000000       0.000000      ...            0.000000   \n",
      "25%        11.880000       0.000000      ...           58.500000   \n",
      "50%        17.610000       0.000000      ...           75.000000   \n",
      "75%        23.900000       0.000000      ...           87.500000   \n",
      "max      9999.000000      39.000000      ...          223.300000   \n",
      "\n",
      "        open_rv_12m   open_rv_24m    max_bal_bc      all_util  \\\n",
      "count  13288.000000  13288.000000  13288.000000  13288.000000   \n",
      "mean       1.354305      2.945515   5840.443332     61.024526   \n",
      "std        1.483710      2.595313   5108.500262     20.018117   \n",
      "min        0.000000      0.000000      0.000000      0.000000   \n",
      "25%        0.000000      1.000000   2405.000000     47.900000   \n",
      "50%        1.000000      2.000000   4485.500000     62.100000   \n",
      "75%        2.000000      4.000000   7701.250000     75.300000   \n",
      "max       22.000000     43.000000  83047.000000    151.400000   \n",
      "\n",
      "       total_rev_hi_lim        inq_fi   total_cu_tl  inq_last_12m  \\\n",
      "count      7.886560e+05  13288.000000  13288.000000  13288.000000   \n",
      "mean       3.216357e+04      0.947772      1.524232      1.841963   \n",
      "std        3.769964e+04      1.441667      2.697601      2.975049   \n",
      "min        0.000000e+00      0.000000      0.000000     -4.000000   \n",
      "25%        1.400000e+04      0.000000      0.000000      0.000000   \n",
      "50%        2.380000e+04      0.000000      0.000000      2.000000   \n",
      "75%        3.990000e+04      1.000000      2.000000      3.000000   \n",
      "max        9.999999e+06     15.000000     33.000000     32.000000   \n",
      "\n",
      "         default_ind  \n",
      "count  855969.000000  \n",
      "mean        0.054286  \n",
      "std         0.226581  \n",
      "min         0.000000  \n",
      "25%         0.000000  \n",
      "50%         0.000000  \n",
      "75%         0.000000  \n",
      "max         1.000000  \n",
      "\n",
      "[8 rows x 52 columns]\n",
      "id                                  0\n",
      "member_id                           0\n",
      "loan_amnt                           0\n",
      "funded_amnt                         0\n",
      "funded_amnt_inv                     0\n",
      "term                                0\n",
      "int_rate                            0\n",
      "installment                         0\n",
      "grade                               0\n",
      "sub_grade                           0\n",
      "emp_title                       49443\n",
      "emp_length                      43061\n",
      "home_ownership                      0\n",
      "annual_inc                          0\n",
      "verification_status                 0\n",
      "issue_d                             0\n",
      "pymnt_plan                          0\n",
      "desc                           734157\n",
      "purpose                             0\n",
      "title                              33\n",
      "zip_code                            0\n",
      "addr_state                          0\n",
      "dti                                 0\n",
      "delinq_2yrs                         0\n",
      "earliest_cr_line                    0\n",
      "inq_last_6mths                      0\n",
      "mths_since_last_delinq         439812\n",
      "mths_since_last_record         724785\n",
      "open_acc                            0\n",
      "pub_rec                             0\n",
      "                                ...  \n",
      "last_pymnt_d                     8862\n",
      "last_pymnt_amnt                     0\n",
      "next_pymnt_d                   252971\n",
      "last_credit_pull_d                 50\n",
      "collections_12_mths_ex_med         56\n",
      "mths_since_last_major_derog    642830\n",
      "policy_code                         0\n",
      "application_type                    0\n",
      "annual_inc_joint               855527\n",
      "dti_joint                      855529\n",
      "verification_status_joint      855527\n",
      "acc_now_delinq                      0\n",
      "tot_coll_amt                    67313\n",
      "tot_cur_bal                     67313\n",
      "open_acc_6m                    842681\n",
      "open_il_6m                     842681\n",
      "open_il_12m                    842681\n",
      "open_il_24m                    842681\n",
      "mths_since_rcnt_il             843035\n",
      "total_bal_il                   842681\n",
      "il_util                        844360\n",
      "open_rv_12m                    842681\n",
      "open_rv_24m                    842681\n",
      "max_bal_bc                     842681\n",
      "all_util                       842681\n",
      "total_rev_hi_lim                67313\n",
      "inq_fi                         842681\n",
      "total_cu_tl                    842681\n",
      "inq_last_12m                   842681\n",
      "default_ind                         0\n",
      "Length: 73, dtype: int64\n"
     ]
    }
   ],
   "source": [
    "print(data.shape)\n",
    "print(data.dtypes)\n",
    "print(data.describe())\n",
    "print(data.isnull().sum())\n"
   ]
  },
  {
   "cell_type": "markdown",
   "metadata": {},
   "source": [
    "## Copy data file into df create new data frame"
   ]
  },
  {
   "cell_type": "code",
   "execution_count": 70,
   "metadata": {
    "scrolled": true
   },
   "outputs": [
    {
     "data": {
      "text/plain": [
       "id                                      int64\n",
       "member_id                               int64\n",
       "loan_amnt                             float64\n",
       "funded_amnt                           float64\n",
       "funded_amnt_inv                       float64\n",
       "term                                   object\n",
       "int_rate                              float64\n",
       "installment                           float64\n",
       "grade                                  object\n",
       "sub_grade                              object\n",
       "emp_title                              object\n",
       "emp_length                             object\n",
       "home_ownership                         object\n",
       "annual_inc                            float64\n",
       "verification_status                    object\n",
       "issue_d                        datetime64[ns]\n",
       "pymnt_plan                             object\n",
       "desc                                   object\n",
       "purpose                                object\n",
       "title                                  object\n",
       "zip_code                               object\n",
       "addr_state                             object\n",
       "dti                                   float64\n",
       "delinq_2yrs                           float64\n",
       "earliest_cr_line                       object\n",
       "inq_last_6mths                        float64\n",
       "mths_since_last_delinq                float64\n",
       "mths_since_last_record                float64\n",
       "open_acc                              float64\n",
       "pub_rec                               float64\n",
       "                                    ...      \n",
       "last_pymnt_d                           object\n",
       "last_pymnt_amnt                       float64\n",
       "next_pymnt_d                           object\n",
       "last_credit_pull_d                     object\n",
       "collections_12_mths_ex_med            float64\n",
       "mths_since_last_major_derog           float64\n",
       "policy_code                           float64\n",
       "application_type                       object\n",
       "annual_inc_joint                      float64\n",
       "dti_joint                             float64\n",
       "verification_status_joint              object\n",
       "acc_now_delinq                        float64\n",
       "tot_coll_amt                          float64\n",
       "tot_cur_bal                           float64\n",
       "open_acc_6m                           float64\n",
       "open_il_6m                            float64\n",
       "open_il_12m                           float64\n",
       "open_il_24m                           float64\n",
       "mths_since_rcnt_il                    float64\n",
       "total_bal_il                          float64\n",
       "il_util                               float64\n",
       "open_rv_12m                           float64\n",
       "open_rv_24m                           float64\n",
       "max_bal_bc                            float64\n",
       "all_util                              float64\n",
       "total_rev_hi_lim                      float64\n",
       "inq_fi                                float64\n",
       "total_cu_tl                           float64\n",
       "inq_last_12m                          float64\n",
       "default_ind                             int64\n",
       "Length: 73, dtype: object"
      ]
     },
     "execution_count": 70,
     "metadata": {},
     "output_type": "execute_result"
    }
   ],
   "source": [
    "df=pd.DataFrame(data)\n",
    "df.dtypes\n"
   ]
  },
  {
   "cell_type": "markdown",
   "metadata": {},
   "source": [
    "### Create half count variable with 50 % data condiation \n",
    "Remove columns which missing value(na) >50%"
   ]
  },
  {
   "cell_type": "code",
   "execution_count": 71,
   "metadata": {},
   "outputs": [
    {
     "name": "stdout",
     "output_type": "stream",
     "text": [
      "id                                 0\n",
      "member_id                          0\n",
      "loan_amnt                          0\n",
      "funded_amnt                        0\n",
      "funded_amnt_inv                    0\n",
      "term                               0\n",
      "int_rate                           0\n",
      "installment                        0\n",
      "grade                              0\n",
      "sub_grade                          0\n",
      "emp_title                      49443\n",
      "emp_length                     43061\n",
      "home_ownership                     0\n",
      "annual_inc                         0\n",
      "verification_status                0\n",
      "issue_d                            0\n",
      "pymnt_plan                         0\n",
      "purpose                            0\n",
      "title                             33\n",
      "zip_code                           0\n",
      "addr_state                         0\n",
      "dti                                0\n",
      "delinq_2yrs                        0\n",
      "earliest_cr_line                   0\n",
      "inq_last_6mths                     0\n",
      "open_acc                           0\n",
      "pub_rec                            0\n",
      "revol_bal                          0\n",
      "revol_util                       446\n",
      "total_acc                          0\n",
      "initial_list_status                0\n",
      "out_prncp                          0\n",
      "out_prncp_inv                      0\n",
      "total_pymnt                        0\n",
      "total_pymnt_inv                    0\n",
      "total_rec_prncp                    0\n",
      "total_rec_int                      0\n",
      "total_rec_late_fee                 0\n",
      "recoveries                         0\n",
      "collection_recovery_fee            0\n",
      "last_pymnt_d                    8862\n",
      "last_pymnt_amnt                    0\n",
      "next_pymnt_d                  252971\n",
      "last_credit_pull_d                50\n",
      "collections_12_mths_ex_med        56\n",
      "policy_code                        0\n",
      "application_type                   0\n",
      "acc_now_delinq                     0\n",
      "tot_coll_amt                   67313\n",
      "tot_cur_bal                    67313\n",
      "total_rev_hi_lim               67313\n",
      "default_ind                        0\n",
      "dtype: int64\n"
     ]
    }
   ],
   "source": [
    "half_count=len(df)/2\n",
    "df1=df.dropna(thresh=half_count,axis=1)# del variable (axis=1)with >50% values as na\n",
    "print(df1.isnull().sum())\n"
   ]
  },
  {
   "cell_type": "markdown",
   "metadata": {},
   "source": [
    "## Barplot releationship status b/w some actual variales vs default_int"
   ]
  },
  {
   "cell_type": "markdown",
   "metadata": {},
   "source": [
    "### 'Purpose' vs 'Default_ind'"
   ]
  },
  {
   "cell_type": "code",
   "execution_count": 34,
   "metadata": {},
   "outputs": [
    {
     "data": {
      "image/png": "[encoded data removed]",
      "text/plain": [
       "<Figure size 432x288 with 1 Axes>"
      ]
     },
     "metadata": {},
     "output_type": "display_data"
    },
    {
     "data": {
      "image/png": "[encoded data removed]",
      "text/plain": [
       "<Figure size 432x288 with 1 Axes>"
      ]
     },
     "metadata": {},
     "output_type": "display_data"
    }
   ],
   "source": [
    "\n",
    "\n",
    "sns.countplot(x='default_ind',data=df1, palette='hls')\n",
    "plt.show()\n",
    "pd.crosstab(df1.purpose,df1.default_ind).plot(kind='bar')\n",
    "plt.title('defult for purpose Title')\n",
    "plt.xlabel('purpose')\n",
    "plt.ylabel('default_ind')\n",
    "plt.savefig('purpose')"
   ]
  },
  {
   "cell_type": "markdown",
   "metadata": {},
   "source": [
    "### 'Emp_length' vs 'Default_ind'"
   ]
  },
  {
   "cell_type": "code",
   "execution_count": 36,
   "metadata": {},
   "outputs": [
    {
     "data": {
      "image/png": "[encoded data removed]",
      "text/plain": [
       "<Figure size 432x288 with 1 Axes>"
      ]
     },
     "metadata": {},
     "output_type": "display_data"
    }
   ],
   "source": [
    "\n",
    "\n",
    "pd.crosstab(df1.emp_length,df1.default_ind).plot(kind='bar')\n",
    "plt.title('defult for emp_length Title')\n",
    "plt.xlabel('emp_length')\n",
    "plt.ylabel('default_ind')\n",
    "plt.savefig('emp_length')\n",
    "\n"
   ]
  },
  {
   "cell_type": "markdown",
   "metadata": {},
   "source": [
    "### 'Grade' vs 'Default_ind'"
   ]
  },
  {
   "cell_type": "code",
   "execution_count": 37,
   "metadata": {},
   "outputs": [
    {
     "data": {
      "image/png": "[encoded data removed]",
      "text/plain": [
       "<Figure size 432x288 with 1 Axes>"
      ]
     },
     "metadata": {},
     "output_type": "display_data"
    }
   ],
   "source": [
    "pd.crosstab(df1.grade,df1.default_ind).plot(kind='bar')\n",
    "plt.title('defult for grade Title')\n",
    "plt.xlabel('grade')\n",
    "plt.ylabel('default_ind')\n",
    "plt.savefig('grade')"
   ]
  },
  {
   "cell_type": "markdown",
   "metadata": {},
   "source": [
    "## Examine our dataframes correlation matrix and drop highly correlated/redundant data to address multicollinearity."
   ]
  },
  {
   "cell_type": "code",
   "execution_count": 72,
   "metadata": {},
   "outputs": [
    {
     "name": "stdout",
     "output_type": "stream",
     "text": [
      "id           id                            0.000000\n",
      "             member_id                     0.000000\n",
      "             loan_amnt                     0.000000\n",
      "             funded_amnt                   0.000000\n",
      "             funded_amnt_inv               0.000000\n",
      "             int_rate                      0.000000\n",
      "             installment                   0.000000\n",
      "             annual_inc                    0.000000\n",
      "             dti                           0.000000\n",
      "             delinq_2yrs                   0.000000\n",
      "             inq_last_6mths                0.000000\n",
      "             open_acc                      0.000000\n",
      "             pub_rec                       0.000000\n",
      "             revol_bal                     0.000000\n",
      "             revol_util                    0.000000\n",
      "             total_acc                     0.000000\n",
      "             out_prncp                     0.000000\n",
      "             out_prncp_inv                 0.000000\n",
      "             total_pymnt                   0.000000\n",
      "             total_pymnt_inv               0.000000\n",
      "             total_rec_prncp               0.000000\n",
      "             total_rec_int                 0.000000\n",
      "             total_rec_late_fee            0.000000\n",
      "             recoveries                    0.000000\n",
      "             collection_recovery_fee       0.000000\n",
      "             last_pymnt_amnt               0.000000\n",
      "             collections_12_mths_ex_med    0.000000\n",
      "             policy_code                   0.000000\n",
      "             acc_now_delinq                0.000000\n",
      "             tot_coll_amt                  0.000000\n",
      "                                             ...   \n",
      "default_ind  loan_amnt                    -0.004907\n",
      "             funded_amnt                  -0.005797\n",
      "             funded_amnt_inv              -0.008209\n",
      "             int_rate                      0.155037\n",
      "             installment                   0.004753\n",
      "             annual_inc                   -0.037066\n",
      "             dti                           0.004429\n",
      "             delinq_2yrs                  -0.009186\n",
      "             inq_last_6mths                0.074407\n",
      "             open_acc                     -0.021698\n",
      "             pub_rec                      -0.019607\n",
      "             revol_bal                    -0.020696\n",
      "             revol_util                    0.044497\n",
      "             total_acc                    -0.021087\n",
      "             out_prncp                    -0.225960\n",
      "             out_prncp_inv                -0.225959\n",
      "             total_pymnt                  -0.039220\n",
      "             total_pymnt_inv              -0.040232\n",
      "             total_rec_prncp              -0.090336\n",
      "             total_rec_int                 0.046050\n",
      "             total_rec_late_fee            0.140760\n",
      "             recoveries                    0.475738\n",
      "             collection_recovery_fee       0.330764\n",
      "             last_pymnt_amnt              -0.087217\n",
      "             collections_12_mths_ex_med   -0.010650\n",
      "             acc_now_delinq               -0.003116\n",
      "             tot_coll_amt                 -0.001921\n",
      "             tot_cur_bal                  -0.036335\n",
      "             total_rev_hi_lim             -0.033620\n",
      "             default_ind                   0.000000\n",
      "Length: 1057, dtype: float64\n"
     ]
    },
    {
     "data": {
      "text/plain": [
       "member_id                id                 0.999431\n",
       "funded_amnt              loan_amnt          0.999265\n",
       "funded_amnt_inv          loan_amnt          0.997601\n",
       "                         funded_amnt        0.998485\n",
       "installment              loan_amnt          0.944870\n",
       "                         funded_amnt        0.945903\n",
       "                         funded_amnt_inv    0.944149\n",
       "total_acc                open_acc           0.694850\n",
       "out_prncp                loan_amnt          0.639784\n",
       "                         funded_amnt        0.641706\n",
       "                         funded_amnt_inv    0.644011\n",
       "out_prncp_inv            loan_amnt          0.639786\n",
       "                         funded_amnt        0.641709\n",
       "                         funded_amnt_inv    0.644023\n",
       "                         out_prncp          0.999997\n",
       "total_pymnt_inv          total_pymnt        0.998121\n",
       "total_rec_prncp          total_pymnt        0.970594\n",
       "                         total_pymnt_inv    0.968608\n",
       "total_rec_int            total_pymnt        0.679127\n",
       "                         total_pymnt_inv    0.678519\n",
       "collection_recovery_fee  recoveries         0.803029\n",
       "last_pymnt_amnt          total_pymnt        0.662738\n",
       "                         total_pymnt_inv    0.663272\n",
       "                         total_rec_prncp    0.744494\n",
       "total_rev_hi_lim         revol_bal          0.820800\n",
       "dtype: float64"
      ]
     },
     "execution_count": 72,
     "metadata": {},
     "output_type": "execute_result"
    }
   ],
   "source": [
    "\n",
    "cor = df1.corr()\n",
    "cor.loc[:,:] = np.tril(cor, k=-1)  # below main lower triangle of an array\n",
    "cor = cor.stack()\n",
    "print(cor)\n",
    "cor[(cor > 0.60) | (cor < -0.6)]\n"
   ]
  },
  {
   "cell_type": "markdown",
   "metadata": {},
   "source": [
    "# Assigned Label of Categorical data and converting numerical "
   ]
  },
  {
   "cell_type": "markdown",
   "metadata": {},
   "source": [
    "### Grade Columns Labeling"
   ]
  },
  {
   "cell_type": "code",
   "execution_count": 73,
   "metadata": {},
   "outputs": [
    {
     "name": "stdout",
     "output_type": "stream",
     "text": [
      "0         5\n",
      "1         4\n",
      "2         4\n",
      "3         4\n",
      "4         5\n",
      "5         6\n",
      "6         4\n",
      "7         2\n",
      "8         1\n",
      "9         5\n",
      "10        4\n",
      "11        5\n",
      "12        4\n",
      "13        5\n",
      "14        5\n",
      "15        3\n",
      "16        4\n",
      "17        6\n",
      "18        5\n",
      "19        6\n",
      "20        4\n",
      "21        5\n",
      "22        5\n",
      "23        5\n",
      "24        5\n",
      "25        5\n",
      "26        4\n",
      "27        3\n",
      "28        5\n",
      "29        5\n",
      "         ..\n",
      "855939    6\n",
      "855940    4\n",
      "855941    3\n",
      "855942    5\n",
      "855943    5\n",
      "855944    3\n",
      "855945    6\n",
      "855946    3\n",
      "855947    3\n",
      "855948    3\n",
      "855949    3\n",
      "855950    5\n",
      "855951    6\n",
      "855952    6\n",
      "855953    5\n",
      "855954    6\n",
      "855955    4\n",
      "855956    3\n",
      "855957    6\n",
      "855958    4\n",
      "855959    5\n",
      "855960    5\n",
      "855961    2\n",
      "855962    5\n",
      "855963    3\n",
      "855964    5\n",
      "855965    5\n",
      "855966    3\n",
      "855967    2\n",
      "855968    5\n",
      "Name: grade, Length: 855969, dtype: int64\n"
     ]
    },
    {
     "name": "stderr",
     "output_type": "stream",
     "text": [
      "C:\\Users\\users1\\Anaconda3\\lib\\site-packages\\pandas\\core\\generic.py:4401: SettingWithCopyWarning: \n",
      "A value is trying to be set on a copy of a slice from a DataFrame.\n",
      "Try using .loc[row_indexer,col_indexer] = value instead\n",
      "\n",
      "See the caveats in the documentation: http://pandas.pydata.org/pandas-docs/stable/indexing.html#indexing-view-versus-copy\n",
      "  self[name] = value\n"
     ]
    }
   ],
   "source": [
    "df1.grade.value_counts()\n",
    "grade_final={'A':6,'B':5,'C':4,'D':3,'E':2,'F':1,'G':0}\n",
    "df1.grade=[grade_final[item]for item in df1.grade]\n",
    "print(df1.grade)"
   ]
  },
  {
   "cell_type": "markdown",
   "metadata": {},
   "source": [
    "### Term Columns Labeling"
   ]
  },
  {
   "cell_type": "code",
   "execution_count": 74,
   "metadata": {},
   "outputs": [
    {
     "name": "stderr",
     "output_type": "stream",
     "text": [
      "C:\\Users\\users1\\Anaconda3\\lib\\site-packages\\pandas\\core\\generic.py:4401: SettingWithCopyWarning: \n",
      "A value is trying to be set on a copy of a slice from a DataFrame.\n",
      "Try using .loc[row_indexer,col_indexer] = value instead\n",
      "\n",
      "See the caveats in the documentation: http://pandas.pydata.org/pandas-docs/stable/indexing.html#indexing-view-versus-copy\n",
      "  self[name] = value\n"
     ]
    },
    {
     "name": "stdout",
     "output_type": "stream",
     "text": [
      "0         0\n",
      "1         1\n",
      "2         0\n",
      "3         0\n",
      "4         1\n",
      "5         0\n",
      "6         1\n",
      "7         0\n",
      "8         1\n",
      "9         1\n",
      "10        1\n",
      "11        0\n",
      "12        0\n",
      "13        0\n",
      "14        0\n",
      "15        0\n",
      "16        0\n",
      "17        0\n",
      "18        0\n",
      "19        0\n",
      "20        1\n",
      "21        0\n",
      "22        0\n",
      "23        0\n",
      "24        0\n",
      "25        0\n",
      "26        0\n",
      "27        1\n",
      "28        0\n",
      "29        0\n",
      "         ..\n",
      "855939    0\n",
      "855940    1\n",
      "855941    0\n",
      "855942    0\n",
      "855943    1\n",
      "855944    0\n",
      "855945    0\n",
      "855946    1\n",
      "855947    1\n",
      "855948    1\n",
      "855949    1\n",
      "855950    1\n",
      "855951    0\n",
      "855952    0\n",
      "855953    0\n",
      "855954    0\n",
      "855955    0\n",
      "855956    0\n",
      "855957    0\n",
      "855958    1\n",
      "855959    0\n",
      "855960    0\n",
      "855961    0\n",
      "855962    0\n",
      "855963    0\n",
      "855964    0\n",
      "855965    0\n",
      "855966    1\n",
      "855967    1\n",
      "855968    0\n",
      "Name: term, Length: 855969, dtype: int64\n"
     ]
    }
   ],
   "source": [
    "df1.term.value_counts()\n",
    "df1.term=df1.term.str.extract('(\\d+)')\n",
    "term_final={'36':0,'60':1}\n",
    "df1.term=[term_final[item]for item in df1.term]\n",
    "print(df1.term)"
   ]
  },
  {
   "cell_type": "markdown",
   "metadata": {},
   "source": [
    "### Emp_Length Columns Labeling"
   ]
  },
  {
   "cell_type": "code",
   "execution_count": 75,
   "metadata": {},
   "outputs": [
    {
     "name": "stderr",
     "output_type": "stream",
     "text": [
      "C:\\Users\\users1\\Anaconda3\\lib\\site-packages\\pandas\\core\\generic.py:5430: SettingWithCopyWarning: \n",
      "A value is trying to be set on a copy of a slice from a DataFrame\n",
      "\n",
      "See the caveats in the documentation: http://pandas.pydata.org/pandas-docs/stable/indexing.html#indexing-view-versus-copy\n",
      "  self._update_inplace(new_data)\n",
      "C:\\Users\\users1\\Anaconda3\\lib\\site-packages\\ipykernel_launcher.py:3: SettingWithCopyWarning: \n",
      "A value is trying to be set on a copy of a slice from a DataFrame.\n",
      "Try using .loc[row_indexer,col_indexer] = value instead\n",
      "\n",
      "See the caveats in the documentation: http://pandas.pydata.org/pandas-docs/stable/indexing.html#indexing-view-versus-copy\n",
      "  This is separate from the ipykernel package so we can avoid doing imports until\n",
      "C:\\Users\\users1\\Anaconda3\\lib\\site-packages\\ipykernel_launcher.py:4: SettingWithCopyWarning: \n",
      "A value is trying to be set on a copy of a slice from a DataFrame.\n",
      "Try using .loc[row_indexer,col_indexer] = value instead\n",
      "\n",
      "See the caveats in the documentation: http://pandas.pydata.org/pandas-docs/stable/indexing.html#indexing-view-versus-copy\n",
      "  after removing the cwd from sys.path.\n"
     ]
    },
    {
     "name": "stdout",
     "output_type": "stream",
     "text": [
      "0         10 years\n",
      "1           1 year\n",
      "2         10 years\n",
      "3         10 years\n",
      "4           1 year\n",
      "5          3 years\n",
      "6          8 years\n",
      "7          9 years\n",
      "8          4 years\n",
      "9           1 year\n",
      "10         5 years\n",
      "11        10 years\n",
      "12          1 year\n",
      "13         3 years\n",
      "14         3 years\n",
      "15          1 year\n",
      "16         4 years\n",
      "17        10 years\n",
      "18          1 year\n",
      "19         6 years\n",
      "20         3 years\n",
      "21        10 years\n",
      "22        10 years\n",
      "23         5 years\n",
      "24          1 year\n",
      "25         2 years\n",
      "26         9 years\n",
      "27         2 years\n",
      "28        10 years\n",
      "29          1 year\n",
      "            ...   \n",
      "855939     2 years\n",
      "855940    10 years\n",
      "855941    10 years\n",
      "855942      1 year\n",
      "855943     4 years\n",
      "855944    10 years\n",
      "855945    10 years\n",
      "855946    10 years\n",
      "855947    10 years\n",
      "855948     3 years\n",
      "855949    10 years\n",
      "855950    10 years\n",
      "855951    10 years\n",
      "855952     9 years\n",
      "855953     4 years\n",
      "855954      1 year\n",
      "855955    10 years\n",
      "855956     2 years\n",
      "855957      1 year\n",
      "855958     8 years\n",
      "855959    10 years\n",
      "855960     8 years\n",
      "855961    10 years\n",
      "855962      1 year\n",
      "855963    10 years\n",
      "855964     8 years\n",
      "855965    10 years\n",
      "855966     5 years\n",
      "855967      1 year\n",
      "855968    10 years\n",
      "Name: emp_length, Length: 855969, dtype: object\n"
     ]
    },
    {
     "name": "stderr",
     "output_type": "stream",
     "text": [
      "C:\\Users\\users1\\Anaconda3\\lib\\site-packages\\pandas\\core\\generic.py:4401: SettingWithCopyWarning: \n",
      "A value is trying to be set on a copy of a slice from a DataFrame.\n",
      "Try using .loc[row_indexer,col_indexer] = value instead\n",
      "\n",
      "See the caveats in the documentation: http://pandas.pydata.org/pandas-docs/stable/indexing.html#indexing-view-versus-copy\n",
      "  self[name] = value\n"
     ]
    },
    {
     "name": "stdout",
     "output_type": "stream",
     "text": [
      "0         10\n",
      "1          1\n",
      "2         10\n",
      "3         10\n",
      "4          1\n",
      "5          3\n",
      "6          8\n",
      "7          9\n",
      "8          4\n",
      "9          1\n",
      "10         5\n",
      "11        10\n",
      "12         1\n",
      "13         3\n",
      "14         3\n",
      "15         1\n",
      "16         4\n",
      "17        10\n",
      "18         1\n",
      "19         6\n",
      "20         3\n",
      "21        10\n",
      "22        10\n",
      "23         5\n",
      "24         1\n",
      "25         2\n",
      "26         9\n",
      "27         2\n",
      "28        10\n",
      "29         1\n",
      "          ..\n",
      "855939     2\n",
      "855940    10\n",
      "855941    10\n",
      "855942     1\n",
      "855943     4\n",
      "855944    10\n",
      "855945    10\n",
      "855946    10\n",
      "855947    10\n",
      "855948     3\n",
      "855949    10\n",
      "855950    10\n",
      "855951    10\n",
      "855952     9\n",
      "855953     4\n",
      "855954     1\n",
      "855955    10\n",
      "855956     2\n",
      "855957     1\n",
      "855958     8\n",
      "855959    10\n",
      "855960     8\n",
      "855961    10\n",
      "855962     1\n",
      "855963    10\n",
      "855964     8\n",
      "855965    10\n",
      "855966     5\n",
      "855967     1\n",
      "855968    10\n",
      "Name: emp_length, Length: 855969, dtype: object\n",
      "int64\n"
     ]
    }
   ],
   "source": [
    "df1['emp_length'].mode()[0]\n",
    "df1['emp_length'].fillna(df1['emp_length'].mode()[0],inplace=True)\n",
    "df1['emp_length'] = df1['emp_length'].str.replace('+','')\n",
    "df1['emp_length'] = df1['emp_length'].str.replace('<','')\n",
    "print(df1.emp_length)\n",
    "df1.emp_length=df1.emp_length.str.extract('(\\d+)')\n",
    "print(df1.emp_length)\n",
    "df1.emp_length = [int(x) for x in df1.emp_length]\n",
    "print(df1.emp_length.dtype)"
   ]
  },
  {
   "cell_type": "markdown",
   "metadata": {},
   "source": [
    "###  Verification_statusColumns Labeling"
   ]
  },
  {
   "cell_type": "code",
   "execution_count": 76,
   "metadata": {},
   "outputs": [
    {
     "name": "stdout",
     "output_type": "stream",
     "text": [
      "['Verified' 'Source Verified' 'Not Verified']\n",
      "0                Verified\n",
      "1         Source Verified\n",
      "2            Not Verified\n",
      "3         Source Verified\n",
      "4         Source Verified\n",
      "5         Source Verified\n",
      "6            Not Verified\n",
      "7         Source Verified\n",
      "8         Source Verified\n",
      "9                Verified\n",
      "10           Not Verified\n",
      "11        Source Verified\n",
      "12        Source Verified\n",
      "13        Source Verified\n",
      "14        Source Verified\n",
      "15           Not Verified\n",
      "16           Not Verified\n",
      "17           Not Verified\n",
      "18               Verified\n",
      "19           Not Verified\n",
      "20               Verified\n",
      "21               Verified\n",
      "22        Source Verified\n",
      "23           Not Verified\n",
      "24           Not Verified\n",
      "25               Verified\n",
      "26           Not Verified\n",
      "27           Not Verified\n",
      "28           Not Verified\n",
      "29        Source Verified\n",
      "               ...       \n",
      "855939    Source Verified\n",
      "855940    Source Verified\n",
      "855941           Verified\n",
      "855942           Verified\n",
      "855943    Source Verified\n",
      "855944           Verified\n",
      "855945           Verified\n",
      "855946    Source Verified\n",
      "855947    Source Verified\n",
      "855948    Source Verified\n",
      "855949       Not Verified\n",
      "855950           Verified\n",
      "855951    Source Verified\n",
      "855952    Source Verified\n",
      "855953    Source Verified\n",
      "855954       Not Verified\n",
      "855955           Verified\n",
      "855956    Source Verified\n",
      "855957           Verified\n",
      "855958           Verified\n",
      "855959           Verified\n",
      "855960           Verified\n",
      "855961           Verified\n",
      "855962           Verified\n",
      "855963           Verified\n",
      "855964           Verified\n",
      "855965           Verified\n",
      "855966           Verified\n",
      "855967    Source Verified\n",
      "855968           Verified\n",
      "Name: verification_status, Length: 855969, dtype: object\n"
     ]
    }
   ],
   "source": [
    "print(df1['verification_status'].unique())\n",
    "print(df1.verification_status)\n"
   ]
  },
  {
   "cell_type": "code",
   "execution_count": 77,
   "metadata": {},
   "outputs": [
    {
     "name": "stdout",
     "output_type": "stream",
     "text": [
      "0         1\n",
      "1         1\n",
      "2         0\n",
      "3         1\n",
      "4         1\n",
      "5         1\n",
      "6         0\n",
      "7         1\n",
      "8         1\n",
      "9         1\n",
      "10        0\n",
      "11        1\n",
      "12        1\n",
      "13        1\n",
      "14        1\n",
      "15        0\n",
      "16        0\n",
      "17        0\n",
      "18        1\n",
      "19        0\n",
      "20        1\n",
      "21        1\n",
      "22        1\n",
      "23        0\n",
      "24        0\n",
      "25        1\n",
      "26        0\n",
      "27        0\n",
      "28        0\n",
      "29        1\n",
      "         ..\n",
      "855939    1\n",
      "855940    1\n",
      "855941    1\n",
      "855942    1\n",
      "855943    1\n",
      "855944    1\n",
      "855945    1\n",
      "855946    1\n",
      "855947    1\n",
      "855948    1\n",
      "855949    0\n",
      "855950    1\n",
      "855951    1\n",
      "855952    1\n",
      "855953    1\n",
      "855954    0\n",
      "855955    1\n",
      "855956    1\n",
      "855957    1\n",
      "855958    1\n",
      "855959    1\n",
      "855960    1\n",
      "855961    1\n",
      "855962    1\n",
      "855963    1\n",
      "855964    1\n",
      "855965    1\n",
      "855966    1\n",
      "855967    1\n",
      "855968    1\n",
      "Name: verification_status, Length: 855969, dtype: int64\n"
     ]
    },
    {
     "name": "stderr",
     "output_type": "stream",
     "text": [
      "C:\\Users\\users1\\Anaconda3\\lib\\site-packages\\pandas\\core\\generic.py:4401: SettingWithCopyWarning: \n",
      "A value is trying to be set on a copy of a slice from a DataFrame.\n",
      "Try using .loc[row_indexer,col_indexer] = value instead\n",
      "\n",
      "See the caveats in the documentation: http://pandas.pydata.org/pandas-docs/stable/indexing.html#indexing-view-versus-copy\n",
      "  self[name] = value\n"
     ]
    }
   ],
   "source": [
    "Ver_status={'Verified':1,'Source Verified':1,'Not Verified':0}\n",
    "df1.verification_status=[Ver_status[item]for item in df1.verification_status]\n",
    "print(df1.verification_status)"
   ]
  },
  {
   "cell_type": "markdown",
   "metadata": {},
   "source": [
    "### Home Ownership Columns Labeling"
   ]
  },
  {
   "cell_type": "code",
   "execution_count": 78,
   "metadata": {},
   "outputs": [
    {
     "name": "stdout",
     "output_type": "stream",
     "text": [
      "['RENT' 'OWN' 'MORTGAGE' 'OTHER' 'NONE' 'ANY']\n",
      "0         1\n",
      "1         1\n",
      "2         1\n",
      "3         1\n",
      "4         1\n",
      "5         1\n",
      "6         1\n",
      "7         1\n",
      "8         3\n",
      "9         1\n",
      "10        3\n",
      "11        3\n",
      "12        1\n",
      "13        1\n",
      "14        1\n",
      "15        1\n",
      "16        1\n",
      "17        2\n",
      "18        2\n",
      "19        1\n",
      "20        1\n",
      "21        1\n",
      "22        3\n",
      "23        1\n",
      "24        1\n",
      "25        2\n",
      "26        1\n",
      "27        1\n",
      "28        2\n",
      "29        1\n",
      "         ..\n",
      "855939    2\n",
      "855940    1\n",
      "855941    2\n",
      "855942    1\n",
      "855943    1\n",
      "855944    2\n",
      "855945    1\n",
      "855946    2\n",
      "855947    1\n",
      "855948    1\n",
      "855949    3\n",
      "855950    2\n",
      "855951    2\n",
      "855952    2\n",
      "855953    1\n",
      "855954    1\n",
      "855955    1\n",
      "855956    1\n",
      "855957    1\n",
      "855958    2\n",
      "855959    2\n",
      "855960    1\n",
      "855961    3\n",
      "855962    2\n",
      "855963    1\n",
      "855964    1\n",
      "855965    2\n",
      "855966    1\n",
      "855967    1\n",
      "855968    1\n",
      "Name: home_ownership, Length: 855969, dtype: int64\n"
     ]
    },
    {
     "name": "stderr",
     "output_type": "stream",
     "text": [
      "C:\\Users\\users1\\Anaconda3\\lib\\site-packages\\pandas\\core\\generic.py:4401: SettingWithCopyWarning: \n",
      "A value is trying to be set on a copy of a slice from a DataFrame.\n",
      "Try using .loc[row_indexer,col_indexer] = value instead\n",
      "\n",
      "See the caveats in the documentation: http://pandas.pydata.org/pandas-docs/stable/indexing.html#indexing-view-versus-copy\n",
      "  self[name] = value\n"
     ]
    }
   ],
   "source": [
    "print(df1['home_ownership'].unique())\n",
    "home_ownership_score={'NONE':0,'ANY':0,'OTHER':0,'RENT':1,'MORTGAGE':2,'OWN':3}\n",
    "df1.home_ownership=[home_ownership_score[item]for item in df1.home_ownership]\n",
    "print(df1.home_ownership)"
   ]
  },
  {
   "cell_type": "markdown",
   "metadata": {},
   "source": [
    "### Application_type Label Encoding"
   ]
  },
  {
   "cell_type": "code",
   "execution_count": 80,
   "metadata": {},
   "outputs": [
    {
     "name": "stdout",
     "output_type": "stream",
     "text": [
      "[1 2]\n"
     ]
    },
    {
     "ename": "KeyError",
     "evalue": "1",
     "output_type": "error",
     "traceback": [
      "\u001b[1;31m---------------------------------------------------------------------------\u001b[0m",
      "\u001b[1;31mKeyError\u001b[0m                                  Traceback (most recent call last)",
      "\u001b[1;32m<ipython-input-80-5e90291062f5>\u001b[0m in \u001b[0;36m<module>\u001b[1;34m()\u001b[0m\n\u001b[0;32m      1\u001b[0m \u001b[0mprint\u001b[0m\u001b[1;33m(\u001b[0m\u001b[0mdf1\u001b[0m\u001b[1;33m[\u001b[0m\u001b[1;34m'application_type'\u001b[0m\u001b[1;33m]\u001b[0m\u001b[1;33m.\u001b[0m\u001b[0munique\u001b[0m\u001b[1;33m(\u001b[0m\u001b[1;33m)\u001b[0m\u001b[1;33m)\u001b[0m\u001b[1;33m\u001b[0m\u001b[0m\n\u001b[0;32m      2\u001b[0m \u001b[0mApp_type\u001b[0m\u001b[1;33m=\u001b[0m\u001b[1;33m{\u001b[0m\u001b[1;34m'INDIVIDUAL'\u001b[0m\u001b[1;33m:\u001b[0m\u001b[1;36m1\u001b[0m\u001b[1;33m,\u001b[0m\u001b[1;34m'JOINT'\u001b[0m\u001b[1;33m:\u001b[0m\u001b[1;36m2\u001b[0m\u001b[1;33m}\u001b[0m\u001b[1;33m\u001b[0m\u001b[0m\n\u001b[1;32m----> 3\u001b[1;33m \u001b[0mdf1\u001b[0m\u001b[1;33m.\u001b[0m\u001b[0mapplication_type\u001b[0m\u001b[1;33m=\u001b[0m\u001b[1;33m[\u001b[0m\u001b[0mApp_type\u001b[0m\u001b[1;33m[\u001b[0m\u001b[0mitem\u001b[0m\u001b[1;33m]\u001b[0m \u001b[1;32mfor\u001b[0m \u001b[0mitem\u001b[0m \u001b[1;32min\u001b[0m \u001b[0mdf1\u001b[0m\u001b[1;33m.\u001b[0m\u001b[0mapplication_type\u001b[0m\u001b[1;33m]\u001b[0m\u001b[1;33m\u001b[0m\u001b[0m\n\u001b[0m\u001b[0;32m      4\u001b[0m \u001b[0mprint\u001b[0m\u001b[1;33m(\u001b[0m\u001b[0mdf1\u001b[0m\u001b[1;33m.\u001b[0m\u001b[0mapplication_type\u001b[0m\u001b[1;33m)\u001b[0m\u001b[1;33m\u001b[0m\u001b[0m\n",
      "\u001b[1;32m<ipython-input-80-5e90291062f5>\u001b[0m in \u001b[0;36m<listcomp>\u001b[1;34m(.0)\u001b[0m\n\u001b[0;32m      1\u001b[0m \u001b[0mprint\u001b[0m\u001b[1;33m(\u001b[0m\u001b[0mdf1\u001b[0m\u001b[1;33m[\u001b[0m\u001b[1;34m'application_type'\u001b[0m\u001b[1;33m]\u001b[0m\u001b[1;33m.\u001b[0m\u001b[0munique\u001b[0m\u001b[1;33m(\u001b[0m\u001b[1;33m)\u001b[0m\u001b[1;33m)\u001b[0m\u001b[1;33m\u001b[0m\u001b[0m\n\u001b[0;32m      2\u001b[0m \u001b[0mApp_type\u001b[0m\u001b[1;33m=\u001b[0m\u001b[1;33m{\u001b[0m\u001b[1;34m'INDIVIDUAL'\u001b[0m\u001b[1;33m:\u001b[0m\u001b[1;36m1\u001b[0m\u001b[1;33m,\u001b[0m\u001b[1;34m'JOINT'\u001b[0m\u001b[1;33m:\u001b[0m\u001b[1;36m2\u001b[0m\u001b[1;33m}\u001b[0m\u001b[1;33m\u001b[0m\u001b[0m\n\u001b[1;32m----> 3\u001b[1;33m \u001b[0mdf1\u001b[0m\u001b[1;33m.\u001b[0m\u001b[0mapplication_type\u001b[0m\u001b[1;33m=\u001b[0m\u001b[1;33m[\u001b[0m\u001b[0mApp_type\u001b[0m\u001b[1;33m[\u001b[0m\u001b[0mitem\u001b[0m\u001b[1;33m]\u001b[0m \u001b[1;32mfor\u001b[0m \u001b[0mitem\u001b[0m \u001b[1;32min\u001b[0m \u001b[0mdf1\u001b[0m\u001b[1;33m.\u001b[0m\u001b[0mapplication_type\u001b[0m\u001b[1;33m]\u001b[0m\u001b[1;33m\u001b[0m\u001b[0m\n\u001b[0m\u001b[0;32m      4\u001b[0m \u001b[0mprint\u001b[0m\u001b[1;33m(\u001b[0m\u001b[0mdf1\u001b[0m\u001b[1;33m.\u001b[0m\u001b[0mapplication_type\u001b[0m\u001b[1;33m)\u001b[0m\u001b[1;33m\u001b[0m\u001b[0m\n",
      "\u001b[1;31mKeyError\u001b[0m: 1"
     ]
    }
   ],
   "source": [
    "print(df1['application_type'].unique())\n",
    "App_type={'INDIVIDUAL':1,'JOINT':2}\n",
    "df1.application_type=[App_type[item] for item in df1.application_type]\n",
    "print(df1.application_type)"
   ]
  },
  {
   "cell_type": "markdown",
   "metadata": {},
   "source": [
    "### Initial_list_status Columns Labeling\n"
   ]
  },
  {
   "cell_type": "code",
   "execution_count": 81,
   "metadata": {},
   "outputs": [
    {
     "name": "stdout",
     "output_type": "stream",
     "text": [
      "['f' 'w']\n",
      "0         2\n",
      "1         2\n",
      "2         2\n",
      "3         2\n",
      "4         2\n",
      "5         2\n",
      "6         2\n",
      "7         2\n",
      "8         2\n",
      "9         2\n",
      "10        2\n",
      "11        2\n",
      "12        2\n",
      "13        2\n",
      "14        2\n",
      "15        2\n",
      "16        2\n",
      "17        2\n",
      "18        2\n",
      "19        2\n",
      "20        2\n",
      "21        2\n",
      "22        2\n",
      "23        2\n",
      "24        2\n",
      "25        2\n",
      "26        2\n",
      "27        2\n",
      "28        2\n",
      "29        2\n",
      "         ..\n",
      "855939    2\n",
      "855940    2\n",
      "855941    2\n",
      "855942    1\n",
      "855943    1\n",
      "855944    2\n",
      "855945    2\n",
      "855946    1\n",
      "855947    1\n",
      "855948    1\n",
      "855949    2\n",
      "855950    1\n",
      "855951    2\n",
      "855952    2\n",
      "855953    2\n",
      "855954    1\n",
      "855955    1\n",
      "855956    2\n",
      "855957    1\n",
      "855958    1\n",
      "855959    2\n",
      "855960    2\n",
      "855961    2\n",
      "855962    2\n",
      "855963    2\n",
      "855964    2\n",
      "855965    2\n",
      "855966    1\n",
      "855967    1\n",
      "855968    2\n",
      "Name: initial_list_status, Length: 855969, dtype: int64\n"
     ]
    },
    {
     "name": "stderr",
     "output_type": "stream",
     "text": [
      "C:\\Users\\users1\\Anaconda3\\lib\\site-packages\\pandas\\core\\generic.py:4401: SettingWithCopyWarning: \n",
      "A value is trying to be set on a copy of a slice from a DataFrame.\n",
      "Try using .loc[row_indexer,col_indexer] = value instead\n",
      "\n",
      "See the caveats in the documentation: http://pandas.pydata.org/pandas-docs/stable/indexing.html#indexing-view-versus-copy\n",
      "  self[name] = value\n"
     ]
    }
   ],
   "source": [
    "print(df1['initial_list_status'].unique())\n",
    "list_status={'w':1,'f':2}\n",
    "df1.initial_list_status=[list_status[item] for item in df1.initial_list_status]\n",
    "print(df1.initial_list_status)\n"
   ]
  },
  {
   "cell_type": "markdown",
   "metadata": {},
   "source": [
    "### Purpose Columns Labeling"
   ]
  },
  {
   "cell_type": "code",
   "execution_count": 82,
   "metadata": {},
   "outputs": [
    {
     "name": "stdout",
     "output_type": "stream",
     "text": [
      "['credit_card' 'car' 'small_business' 'other' 'wedding'\n",
      " 'debt_consolidation' 'home_improvement' 'major_purchase' 'medical'\n",
      " 'moving' 'vacation' 'house' 'renewable_energy' 'educational']\n",
      "0          8\n",
      "1          3\n",
      "2         11\n",
      "3          1\n",
      "4          1\n",
      "5          4\n",
      "6          9\n",
      "7          3\n",
      "8         11\n",
      "9          1\n",
      "10         9\n",
      "11         9\n",
      "12         9\n",
      "13         8\n",
      "14         1\n",
      "15         9\n",
      "16         7\n",
      "17         2\n",
      "18         5\n",
      "19         9\n",
      "20         9\n",
      "21         9\n",
      "22         8\n",
      "23         9\n",
      "24         2\n",
      "25         8\n",
      "26         9\n",
      "27         1\n",
      "28         9\n",
      "29         8\n",
      "          ..\n",
      "855939     9\n",
      "855940     9\n",
      "855941     5\n",
      "855942     9\n",
      "855943     9\n",
      "855944     9\n",
      "855945     9\n",
      "855946     8\n",
      "855947     9\n",
      "855948     9\n",
      "855949     9\n",
      "855950     9\n",
      "855951     8\n",
      "855952     9\n",
      "855953     9\n",
      "855954     9\n",
      "855955     9\n",
      "855956     9\n",
      "855957     9\n",
      "855958     2\n",
      "855959     3\n",
      "855960     9\n",
      "855961     9\n",
      "855962     8\n",
      "855963     8\n",
      "855964     9\n",
      "855965     7\n",
      "855966     9\n",
      "855967     9\n",
      "855968     8\n",
      "Name: purpose, Length: 855969, dtype: int64\n"
     ]
    },
    {
     "name": "stderr",
     "output_type": "stream",
     "text": [
      "C:\\Users\\users1\\Anaconda3\\lib\\site-packages\\pandas\\core\\generic.py:4401: SettingWithCopyWarning: \n",
      "A value is trying to be set on a copy of a slice from a DataFrame.\n",
      "Try using .loc[row_indexer,col_indexer] = value instead\n",
      "\n",
      "See the caveats in the documentation: http://pandas.pydata.org/pandas-docs/stable/indexing.html#indexing-view-versus-copy\n",
      "  self[name] = value\n"
     ]
    }
   ],
   "source": [
    "print(df1['purpose'].unique())\n",
    "purpose_score={'vacation':0,'other':1,'major_purchase':2,'car':3,'wedding':4,'medical':5,'moving':6,'home_improvement':7,'credit_card':8,'debt_consolidation':9,'house':10,'small_business':11,'renewable_energy':12,'educational':13}\n",
    "df1.purpose=[purpose_score[item] for item in df1.purpose]\n",
    "print(df1.purpose)"
   ]
  },
  {
   "cell_type": "markdown",
   "metadata": {},
   "source": [
    "### Open Account Labeling"
   ]
  },
  {
   "cell_type": "code",
   "execution_count": 83,
   "metadata": {},
   "outputs": [
    {
     "name": "stdout",
     "output_type": "stream",
     "text": [
      "0         0\n",
      "1         0\n",
      "2         0\n",
      "3         1\n",
      "4         1\n",
      "5         1\n",
      "6         1\n",
      "7         1\n",
      "8         1\n",
      "9         0\n",
      "10        1\n",
      "11        1\n",
      "12        1\n",
      "13        1\n",
      "14        1\n",
      "15        1\n",
      "16        1\n",
      "17        1\n",
      "18        1\n",
      "19        1\n",
      "20        1\n",
      "21        1\n",
      "22        1\n",
      "23        1\n",
      "24        1\n",
      "25        1\n",
      "26        1\n",
      "27        1\n",
      "28        1\n",
      "29        1\n",
      "         ..\n",
      "855939    1\n",
      "855940    1\n",
      "855941    1\n",
      "855942    1\n",
      "855943    1\n",
      "855944    1\n",
      "855945    1\n",
      "855946    1\n",
      "855947    1\n",
      "855948    1\n",
      "855949    1\n",
      "855950    1\n",
      "855951    1\n",
      "855952    1\n",
      "855953    1\n",
      "855954    1\n",
      "855955    1\n",
      "855956    0\n",
      "855957    1\n",
      "855958    0\n",
      "855959    1\n",
      "855960    1\n",
      "855961    1\n",
      "855962    1\n",
      "855963    1\n",
      "855964    1\n",
      "855965    1\n",
      "855966    1\n",
      "855967    1\n",
      "855968    1\n",
      "Name: open_acc, Length: 855969, dtype: int64\n"
     ]
    },
    {
     "name": "stderr",
     "output_type": "stream",
     "text": [
      "C:\\Users\\users1\\Anaconda3\\lib\\site-packages\\ipykernel_launcher.py:10: SettingWithCopyWarning: \n",
      "A value is trying to be set on a copy of a slice from a DataFrame.\n",
      "Try using .loc[row_indexer,col_indexer] = value instead\n",
      "\n",
      "See the caveats in the documentation: http://pandas.pydata.org/pandas-docs/stable/indexing.html#indexing-view-versus-copy\n",
      "  # Remove the CWD from sys.path while we load stuff.\n"
     ]
    }
   ],
   "source": [
    "df1.open_acc.mode()\n",
    "\n",
    "def open_acc_final(i):\n",
    "    if i in range (4,23):\n",
    "        return(1)\n",
    "    else:\n",
    "        return(0)\n",
    "\n",
    "\n",
    "df1['open_acc']= df1['open_acc'].apply(open_acc_final)\n",
    "print(df1.open_acc) \n"
   ]
  },
  {
   "cell_type": "code",
   "execution_count": 84,
   "metadata": {},
   "outputs": [
    {
     "name": "stdout",
     "output_type": "stream",
     "text": [
      "446\n",
      "0\n"
     ]
    },
    {
     "name": "stderr",
     "output_type": "stream",
     "text": [
      "C:\\Users\\users1\\Anaconda3\\lib\\site-packages\\pandas\\core\\generic.py:5430: SettingWithCopyWarning: \n",
      "A value is trying to be set on a copy of a slice from a DataFrame\n",
      "\n",
      "See the caveats in the documentation: http://pandas.pydata.org/pandas-docs/stable/indexing.html#indexing-view-versus-copy\n",
      "  self._update_inplace(new_data)\n"
     ]
    }
   ],
   "source": [
    "df1.revol_util.describe()\n",
    "print(df1.revol_util.isnull().sum())\n",
    "df1['revol_util'].fillna(df1['revol_util'].median(),inplace=True)\n",
    "print(df1.revol_util.isnull().sum())"
   ]
  },
  {
   "cell_type": "markdown",
   "metadata": {},
   "source": [
    "### Earliest_cr_line date columns Labealing"
   ]
  },
  {
   "cell_type": "code",
   "execution_count": 85,
   "metadata": {},
   "outputs": [
    {
     "name": "stderr",
     "output_type": "stream",
     "text": [
      "C:\\Users\\users1\\Anaconda3\\lib\\site-packages\\pandas\\core\\generic.py:4401: SettingWithCopyWarning: \n",
      "A value is trying to be set on a copy of a slice from a DataFrame.\n",
      "Try using .loc[row_indexer,col_indexer] = value instead\n",
      "\n",
      "See the caveats in the documentation: http://pandas.pydata.org/pandas-docs/stable/indexing.html#indexing-view-versus-copy\n",
      "  self[name] = value\n"
     ]
    },
    {
     "name": "stdout",
     "output_type": "stream",
     "text": [
      "0         1985\n",
      "1         1999\n",
      "2         2001\n",
      "3         1996\n",
      "4         1996\n",
      "5         2004\n",
      "6         2005\n",
      "7         2007\n",
      "8         2004\n",
      "9         2004\n",
      "10        1998\n",
      "11        1989\n",
      "12        2004\n",
      "13        2003\n",
      "14        1991\n",
      "15        2007\n",
      "16        1998\n",
      "17        1993\n",
      "18        2003\n",
      "19        2001\n",
      "20        1997\n",
      "21        1983\n",
      "22        1985\n",
      "23        2003\n",
      "24        2001\n",
      "25        2002\n",
      "26        2003\n",
      "27        2003\n",
      "28        1984\n",
      "29        2006\n",
      "          ... \n",
      "855939    1998\n",
      "855940    2002\n",
      "855941    1990\n",
      "855942    2006\n",
      "855943    1989\n",
      "855944    2001\n",
      "855945    1993\n",
      "855946    1994\n",
      "855947    2002\n",
      "855948    2003\n",
      "855949    2003\n",
      "855950    1983\n",
      "855951    1994\n",
      "855952    2003\n",
      "855953    2006\n",
      "855954    1975\n",
      "855955    2006\n",
      "855956    2011\n",
      "855957    2000\n",
      "855958    1994\n",
      "855959    2002\n",
      "855960    1994\n",
      "855961    2002\n",
      "855962    1995\n",
      "855963    1999\n",
      "855964    2004\n",
      "855965    1974\n",
      "855966    2003\n",
      "855967    2003\n",
      "855968    2001\n",
      "Name: earliest_cr_line, Length: 855969, dtype: object\n",
      "int64\n",
      "0         3\n",
      "1         3\n",
      "2         3\n",
      "3         3\n",
      "4         3\n",
      "5         3\n",
      "6         3\n",
      "7         3\n",
      "8         3\n",
      "9         3\n",
      "10        3\n",
      "11        3\n",
      "12        3\n",
      "13        3\n",
      "14        3\n",
      "15        3\n",
      "16        3\n",
      "17        3\n",
      "18        3\n",
      "19        3\n",
      "20        3\n",
      "21        3\n",
      "22        3\n",
      "23        3\n",
      "24        3\n",
      "25        3\n",
      "26        3\n",
      "27        3\n",
      "28        3\n",
      "29        3\n",
      "         ..\n",
      "855939    3\n",
      "855940    3\n",
      "855941    3\n",
      "855942    3\n",
      "855943    3\n",
      "855944    3\n",
      "855945    3\n",
      "855946    3\n",
      "855947    3\n",
      "855948    3\n",
      "855949    3\n",
      "855950    3\n",
      "855951    3\n",
      "855952    3\n",
      "855953    3\n",
      "855954    3\n",
      "855955    3\n",
      "855956    3\n",
      "855957    3\n",
      "855958    3\n",
      "855959    3\n",
      "855960    3\n",
      "855961    3\n",
      "855962    3\n",
      "855963    3\n",
      "855964    3\n",
      "855965    3\n",
      "855966    3\n",
      "855967    3\n",
      "855968    3\n",
      "Name: earliest_cr_line, Length: 855969, dtype: int64\n"
     ]
    },
    {
     "name": "stderr",
     "output_type": "stream",
     "text": [
      "C:\\Users\\users1\\Anaconda3\\lib\\site-packages\\ipykernel_launcher.py:17: SettingWithCopyWarning: \n",
      "A value is trying to be set on a copy of a slice from a DataFrame.\n",
      "Try using .loc[row_indexer,col_indexer] = value instead\n",
      "\n",
      "See the caveats in the documentation: http://pandas.pydata.org/pandas-docs/stable/indexing.html#indexing-view-versus-copy\n"
     ]
    }
   ],
   "source": [
    "df1['earliest_cr_line'].nunique()\n",
    "df1.earliest_cr_line=df1.earliest_cr_line.str.extract('(\\d+)')\n",
    "print(df1.earliest_cr_line)\n",
    "df1.earliest_cr_line = [int(x) for x in df1.earliest_cr_line]\n",
    "print(df1.earliest_cr_line.dtype)\n",
    "#%%\n",
    "def earliest_cr_line_final(i):\n",
    "    if i in range(44,79):\n",
    "        return(0)\n",
    "    elif i in range(80,90):\n",
    "        return(1)\n",
    "    elif i in range(90,0):\n",
    "        return(2)\n",
    "    else:\n",
    "        return(3)\n",
    "#%%\n",
    "df1['earliest_cr_line']= df1['earliest_cr_line'].apply(earliest_cr_line_final)\n",
    "print(df1.earliest_cr_line)"
   ]
  },
  {
   "cell_type": "markdown",
   "metadata": {},
   "source": [
    "### Last_pymnt_d date columns Labealing"
   ]
  },
  {
   "cell_type": "code",
   "execution_count": 86,
   "metadata": {},
   "outputs": [
    {
     "name": "stderr",
     "output_type": "stream",
     "text": [
      "C:\\Users\\users1\\Anaconda3\\lib\\site-packages\\pandas\\core\\generic.py:5430: SettingWithCopyWarning: \n",
      "A value is trying to be set on a copy of a slice from a DataFrame\n",
      "\n",
      "See the caveats in the documentation: http://pandas.pydata.org/pandas-docs/stable/indexing.html#indexing-view-versus-copy\n",
      "  self._update_inplace(new_data)\n",
      "C:\\Users\\users1\\Anaconda3\\lib\\site-packages\\pandas\\core\\generic.py:4401: SettingWithCopyWarning: \n",
      "A value is trying to be set on a copy of a slice from a DataFrame.\n",
      "Try using .loc[row_indexer,col_indexer] = value instead\n",
      "\n",
      "See the caveats in the documentation: http://pandas.pydata.org/pandas-docs/stable/indexing.html#indexing-view-versus-copy\n",
      "  self[name] = value\n"
     ]
    },
    {
     "name": "stdout",
     "output_type": "stream",
     "text": [
      "0         2015\n",
      "1         2013\n",
      "2         2014\n",
      "3         2015\n",
      "4         2016\n",
      "5         2015\n",
      "6         2016\n",
      "7         2015\n",
      "8         2012\n",
      "9         2012\n",
      "10        2013\n",
      "11        2013\n",
      "12        2012\n",
      "13        2015\n",
      "14        2013\n",
      "15        2015\n",
      "16        2015\n",
      "17        2013\n",
      "18        2015\n",
      "19        2012\n",
      "20        2015\n",
      "21        2013\n",
      "22        2015\n",
      "23        2013\n",
      "24        2012\n",
      "25        2012\n",
      "26        2016\n",
      "27        2012\n",
      "28        2013\n",
      "29        2014\n",
      "          ... \n",
      "855939    2016\n",
      "855940    2016\n",
      "855941    2015\n",
      "855942    2016\n",
      "855943    2016\n",
      "855944    2016\n",
      "855945    2016\n",
      "855946    2016\n",
      "855947    2016\n",
      "855948    2016\n",
      "855949    2016\n",
      "855950    2016\n",
      "855951    2016\n",
      "855952    2016\n",
      "855953    2016\n",
      "855954    2015\n",
      "855955    2016\n",
      "855956    2015\n",
      "855957    2016\n",
      "855958    2016\n",
      "855959    2015\n",
      "855960    2016\n",
      "855961    2015\n",
      "855962    2016\n",
      "855963    2016\n",
      "855964    2016\n",
      "855965    2016\n",
      "855966    2016\n",
      "855967    2016\n",
      "855968    2016\n",
      "Name: last_pymnt_d, Length: 855969, dtype: object\n",
      "int64\n",
      "0         2\n",
      "1         2\n",
      "2         2\n",
      "3         2\n",
      "4         2\n",
      "5         2\n",
      "6         2\n",
      "7         2\n",
      "8         2\n",
      "9         2\n",
      "10        2\n",
      "11        2\n",
      "12        2\n",
      "13        2\n",
      "14        2\n",
      "15        2\n",
      "16        2\n",
      "17        2\n",
      "18        2\n",
      "19        2\n",
      "20        2\n",
      "21        2\n",
      "22        2\n",
      "23        2\n",
      "24        2\n",
      "25        2\n",
      "26        2\n",
      "27        2\n",
      "28        2\n",
      "29        2\n",
      "         ..\n",
      "855939    2\n",
      "855940    2\n",
      "855941    2\n",
      "855942    2\n",
      "855943    2\n",
      "855944    2\n",
      "855945    2\n",
      "855946    2\n",
      "855947    2\n",
      "855948    2\n",
      "855949    2\n",
      "855950    2\n",
      "855951    2\n",
      "855952    2\n",
      "855953    2\n",
      "855954    2\n",
      "855955    2\n",
      "855956    2\n",
      "855957    2\n",
      "855958    2\n",
      "855959    2\n",
      "855960    2\n",
      "855961    2\n",
      "855962    2\n",
      "855963    2\n",
      "855964    2\n",
      "855965    2\n",
      "855966    2\n",
      "855967    2\n",
      "855968    2\n",
      "Name: last_pymnt_d, Length: 855969, dtype: int64\n"
     ]
    },
    {
     "name": "stderr",
     "output_type": "stream",
     "text": [
      "C:\\Users\\users1\\Anaconda3\\lib\\site-packages\\ipykernel_launcher.py:15: SettingWithCopyWarning: \n",
      "A value is trying to be set on a copy of a slice from a DataFrame.\n",
      "Try using .loc[row_indexer,col_indexer] = value instead\n",
      "\n",
      "See the caveats in the documentation: http://pandas.pydata.org/pandas-docs/stable/indexing.html#indexing-view-versus-copy\n",
      "  from ipykernel import kernelapp as app\n"
     ]
    }
   ],
   "source": [
    "df1['last_pymnt_d'].fillna(df1['last_pymnt_d'].mode()[0],inplace=True)\n",
    "df1.last_pymnt_d=df1.last_pymnt_d.str.extract('(\\d+)')\n",
    "print(df1.last_pymnt_d)\n",
    "df1.last_pymnt_d = [int(x) for x in df1.last_pymnt_d]\n",
    "print(df1.last_pymnt_d.dtype)\n",
    "#%%\n",
    "def last_pymnt_d_final(i):\n",
    "    if i in range (8,10):\n",
    "        return(0)\n",
    "    elif i in range(11,13):\n",
    "        return(1)    \n",
    "    else:\n",
    "        return(2)\n",
    "    #%%\n",
    "df1['last_pymnt_d']= df1['last_pymnt_d'].apply(last_pymnt_d_final)\n",
    "print(df1.last_pymnt_d) "
   ]
  },
  {
   "cell_type": "markdown",
   "metadata": {},
   "source": [
    "# Drop Less Important Variable "
   ]
  },
  {
   "cell_type": "code",
   "execution_count": 87,
   "metadata": {},
   "outputs": [
    {
     "data": {
      "text/plain": [
       "id                                0\n",
       "loan_amnt                         0\n",
       "term                              0\n",
       "int_rate                          0\n",
       "installment                       0\n",
       "grade                             0\n",
       "emp_length                        0\n",
       "home_ownership                    0\n",
       "annual_inc                        0\n",
       "verification_status               0\n",
       "issue_d                           0\n",
       "purpose                           0\n",
       "dti                               0\n",
       "delinq_2yrs                       0\n",
       "earliest_cr_line                  0\n",
       "open_acc                          0\n",
       "pub_rec                           0\n",
       "revol_bal                         0\n",
       "revol_util                        0\n",
       "initial_list_status               0\n",
       "out_prncp                         0\n",
       "total_pymnt                       0\n",
       "total_rec_prncp                   0\n",
       "total_rec_int                     0\n",
       "total_rec_late_fee                0\n",
       "recoveries                        0\n",
       "collection_recovery_fee           0\n",
       "last_pymnt_d                      0\n",
       "last_pymnt_amnt                   0\n",
       "last_credit_pull_d               50\n",
       "collections_12_mths_ex_med       56\n",
       "application_type                  0\n",
       "acc_now_delinq                    0\n",
       "tot_cur_bal                   67313\n",
       "total_rev_hi_lim              67313\n",
       "default_ind                       0\n",
       "dtype: int64"
      ]
     },
     "execution_count": 87,
     "metadata": {},
     "output_type": "execute_result"
    }
   ],
   "source": [
    "df2=pd.DataFrame(df1)\n",
    "df2.drop(['member_id','funded_amnt','addr_state','emp_title','sub_grade','inq_last_6mths','funded_amnt_inv','pymnt_plan','title','zip_code','inq_last_6mths','total_acc','out_prncp_inv','total_pymnt_inv','next_pymnt_d','policy_code','tot_coll_amt'],axis=1,inplace=True)\n",
    "\n",
    "#%%\n",
    "df2.shape\n",
    "df2.isnull().sum()\n"
   ]
  },
  {
   "cell_type": "markdown",
   "metadata": {},
   "source": [
    "### Drop na obervation present"
   ]
  },
  {
   "cell_type": "code",
   "execution_count": 88,
   "metadata": {},
   "outputs": [
    {
     "name": "stdout",
     "output_type": "stream",
     "text": [
      "67313\n",
      "67313\n"
     ]
    },
    {
     "data": {
      "text/plain": [
       "id                            0\n",
       "loan_amnt                     0\n",
       "term                          0\n",
       "int_rate                      0\n",
       "installment                   0\n",
       "grade                         0\n",
       "emp_length                    0\n",
       "home_ownership                0\n",
       "annual_inc                    0\n",
       "verification_status           0\n",
       "issue_d                       0\n",
       "purpose                       0\n",
       "dti                           0\n",
       "delinq_2yrs                   0\n",
       "earliest_cr_line              0\n",
       "open_acc                      0\n",
       "pub_rec                       0\n",
       "revol_bal                     0\n",
       "revol_util                    0\n",
       "initial_list_status           0\n",
       "out_prncp                     0\n",
       "total_pymnt                   0\n",
       "total_rec_prncp               0\n",
       "total_rec_int                 0\n",
       "total_rec_late_fee            0\n",
       "recoveries                    0\n",
       "collection_recovery_fee       0\n",
       "last_pymnt_d                  0\n",
       "last_pymnt_amnt               0\n",
       "last_credit_pull_d            0\n",
       "collections_12_mths_ex_med    0\n",
       "application_type              0\n",
       "acc_now_delinq                0\n",
       "tot_cur_bal                   0\n",
       "total_rev_hi_lim              0\n",
       "default_ind                   0\n",
       "dtype: int64"
      ]
     },
     "execution_count": 88,
     "metadata": {},
     "output_type": "execute_result"
    }
   ],
   "source": [
    "print(df2.tot_cur_bal.isnull().sum())\n",
    "print(df2.total_rev_hi_lim.isnull().sum())\n",
    "df3=df2.dropna(axis=0,how='any',thresh=None)\n",
    "df3.isnull().sum()"
   ]
  },
  {
   "cell_type": "markdown",
   "metadata": {},
   "source": [
    "## Check heatmap multicollinearity."
   ]
  },
  {
   "cell_type": "code",
   "execution_count": 89,
   "metadata": {},
   "outputs": [
    {
     "data": {
      "text/plain": [
       "<matplotlib.axes._subplots.AxesSubplot at 0x95fb8b7ef0>"
      ]
     },
     "execution_count": 89,
     "metadata": {},
     "output_type": "execute_result"
    },
    {
     "data": {
      "image/png": "[encoded data removed]",
      "text/plain": [
       "<Figure size 432x288 with 2 Axes>"
      ]
     },
     "metadata": {},
     "output_type": "display_data"
    }
   ],
   "source": [
    "corrmat = df3.corr()\n",
    "sns.heatmap(corrmat, vmax=1, square=True,annot=True)"
   ]
  },
  {
   "cell_type": "code",
   "execution_count": 56,
   "metadata": {},
   "outputs": [
    {
     "data": {
      "image/png": "[encoded data removed]",
      "text/plain": [
       "<Figure size 432x288 with 2 Axes>"
      ]
     },
     "metadata": {},
     "output_type": "display_data"
    }
   ],
   "source": [
    "k = 10 #number of variables for heatmap\n",
    "cols = corrmat.nlargest(k,'revol_bal')['revol_bal'].index\n",
    "cm = np.corrcoef(df3[cols].values.T)\n",
    "sns.set(font_scale=1.25)\n",
    "hm = sns.heatmap(cm, cbar=True, annot=True, square=True, fmt='.2f', annot_kws={'size': 10}, yticklabels=cols.values, xticklabels=cols.values)\n",
    "plt.show()"
   ]
  },
  {
   "cell_type": "markdown",
   "metadata": {},
   "source": [
    "### last_credit_pull_d date columns Labealing"
   ]
  },
  {
   "cell_type": "code",
   "execution_count": 90,
   "metadata": {},
   "outputs": [
    {
     "name": "stdout",
     "output_type": "stream",
     "text": [
      "['Dec-2015' 'Jan-2016' 'Aug-2014' 'Aug-2015' 'May-2014' 'Mar-2015'\n",
      " 'Mar-2014' 'Jan-2014' 'May-2015' 'Oct-2015' 'Nov-2015' 'Oct-2014'\n",
      " 'Apr-2014' 'Jul-2015' 'Apr-2015' 'Sep-2014' 'Sep-2015' 'Dec-2014'\n",
      " 'Nov-2014' 'Jan-2015' 'Jun-2015' 'Jul-2014' 'Feb-2014' 'Jun-2014'\n",
      " 'Feb-2015' 'Nov-2013' 'Dec-2013' 'Oct-2013' 'Sep-2013' 'Aug-2013'\n",
      " 'Jul-2013' 'Jun-2013' 'May-2013' 'Apr-2013' 'Mar-2013' 'Feb-2013'\n",
      " 'Jan-2013' 'Dec-2012' 'Nov-2012' 'Oct-2012' 'Sep-2012' 'Aug-2012']\n",
      "0\n"
     ]
    },
    {
     "name": "stderr",
     "output_type": "stream",
     "text": [
      "C:\\Users\\users1\\Anaconda3\\lib\\site-packages\\pandas\\core\\generic.py:4401: SettingWithCopyWarning: \n",
      "A value is trying to be set on a copy of a slice from a DataFrame.\n",
      "Try using .loc[row_indexer,col_indexer] = value instead\n",
      "\n",
      "See the caveats in the documentation: http://pandas.pydata.org/pandas-docs/stable/indexing.html#indexing-view-versus-copy\n",
      "  self[name] = value\n"
     ]
    },
    {
     "name": "stdout",
     "output_type": "stream",
     "text": [
      "39694     2015\n",
      "39695     2016\n",
      "39696     2016\n",
      "39697     2016\n",
      "39698     2016\n",
      "39699     2016\n",
      "39700     2016\n",
      "39701     2016\n",
      "39702     2016\n",
      "39703     2016\n",
      "39704     2016\n",
      "39705     2014\n",
      "39706     2016\n",
      "39707     2016\n",
      "39708     2015\n",
      "39709     2016\n",
      "39710     2016\n",
      "39711     2016\n",
      "39712     2016\n",
      "39713     2016\n",
      "39714     2016\n",
      "39715     2016\n",
      "39716     2016\n",
      "39717     2016\n",
      "39718     2015\n",
      "39719     2016\n",
      "39720     2016\n",
      "39721     2016\n",
      "39722     2014\n",
      "39723     2016\n",
      "          ... \n",
      "855939    2016\n",
      "855940    2016\n",
      "855941    2016\n",
      "855942    2016\n",
      "855943    2016\n",
      "855944    2016\n",
      "855945    2016\n",
      "855946    2016\n",
      "855947    2016\n",
      "855948    2016\n",
      "855949    2016\n",
      "855950    2016\n",
      "855951    2016\n",
      "855952    2016\n",
      "855953    2016\n",
      "855954    2015\n",
      "855955    2016\n",
      "855956    2015\n",
      "855957    2016\n",
      "855958    2015\n",
      "855959    2015\n",
      "855960    2016\n",
      "855961    2016\n",
      "855962    2016\n",
      "855963    2016\n",
      "855964    2016\n",
      "855965    2016\n",
      "855966    2016\n",
      "855967    2016\n",
      "855968    2016\n",
      "Name: last_credit_pull_d, Length: 788608, dtype: object\n",
      "int64\n",
      "39694     1\n",
      "39695     1\n",
      "39696     1\n",
      "39697     1\n",
      "39698     1\n",
      "39699     1\n",
      "39700     1\n",
      "39701     1\n",
      "39702     1\n",
      "39703     1\n",
      "39704     1\n",
      "39705     1\n",
      "39706     1\n",
      "39707     1\n",
      "39708     1\n",
      "39709     1\n",
      "39710     1\n",
      "39711     1\n",
      "39712     1\n",
      "39713     1\n",
      "39714     1\n",
      "39715     1\n",
      "39716     1\n",
      "39717     1\n",
      "39718     1\n",
      "39719     1\n",
      "39720     1\n",
      "39721     1\n",
      "39722     1\n",
      "39723     1\n",
      "         ..\n",
      "855939    1\n",
      "855940    1\n",
      "855941    1\n",
      "855942    1\n",
      "855943    1\n",
      "855944    1\n",
      "855945    1\n",
      "855946    1\n",
      "855947    1\n",
      "855948    1\n",
      "855949    1\n",
      "855950    1\n",
      "855951    1\n",
      "855952    1\n",
      "855953    1\n",
      "855954    1\n",
      "855955    1\n",
      "855956    1\n",
      "855957    1\n",
      "855958    1\n",
      "855959    1\n",
      "855960    1\n",
      "855961    1\n",
      "855962    1\n",
      "855963    1\n",
      "855964    1\n",
      "855965    1\n",
      "855966    1\n",
      "855967    1\n",
      "855968    1\n",
      "Name: last_credit_pull_d, Length: 788608, dtype: int64\n"
     ]
    },
    {
     "name": "stderr",
     "output_type": "stream",
     "text": [
      "C:\\Users\\users1\\Anaconda3\\lib\\site-packages\\ipykernel_launcher.py:15: SettingWithCopyWarning: \n",
      "A value is trying to be set on a copy of a slice from a DataFrame.\n",
      "Try using .loc[row_indexer,col_indexer] = value instead\n",
      "\n",
      "See the caveats in the documentation: http://pandas.pydata.org/pandas-docs/stable/indexing.html#indexing-view-versus-copy\n",
      "  from ipykernel import kernelapp as app\n"
     ]
    }
   ],
   "source": [
    "print(df3['last_credit_pull_d'].unique())\n",
    "print(df3.last_credit_pull_d.isnull().sum())\n",
    "df3.last_credit_pull_d=df3.last_credit_pull_d.str.extract('(\\d+)')\n",
    "print(df3.last_credit_pull_d)\n",
    "\n",
    "df3.last_credit_pull_d = [int(x) for x in df3.last_credit_pull_d]\n",
    "print(df3.last_credit_pull_d.dtype)\n",
    "\n",
    "def last__credit_pull_d_final(i):\n",
    "    if i in range (14,16):\n",
    "        return(0)\n",
    "    else:\n",
    "        return(1)\n",
    "        \n",
    "df3['last_credit_pull_d']= df3['last_credit_pull_d'].apply(last__credit_pull_d_final)\n",
    "print(df3.last_credit_pull_d) \n"
   ]
  },
  {
   "cell_type": "markdown",
   "metadata": {},
   "source": [
    "### Pub_Rec Labeling"
   ]
  },
  {
   "cell_type": "code",
   "execution_count": 58,
   "metadata": {},
   "outputs": [
    {
     "name": "stdout",
     "output_type": "stream",
     "text": [
      "[ 0.  2.  1.  3.  4.  5.  6.  9.  8.  7. 11. 49. 10. 54. 12. 18. 19. 16.\n",
      " 15. 14. 40. 63. 13. 21. 34. 17. 23. 26. 28. 86. 22.]\n",
      "39694     4\n",
      "39695     4\n",
      "39696     4\n",
      "39697     2\n",
      "39698     4\n",
      "39699     4\n",
      "39700     3\n",
      "39701     4\n",
      "39702     4\n",
      "39703     2\n",
      "39704     4\n",
      "39705     4\n",
      "39706     4\n",
      "39707     4\n",
      "39708     4\n",
      "39709     4\n",
      "39710     4\n",
      "39711     4\n",
      "39712     4\n",
      "39713     4\n",
      "39714     3\n",
      "39715     4\n",
      "39716     3\n",
      "39717     3\n",
      "39718     3\n",
      "39719     4\n",
      "39720     4\n",
      "39721     4\n",
      "39722     4\n",
      "39723     4\n",
      "         ..\n",
      "855939    4\n",
      "855940    4\n",
      "855941    4\n",
      "855942    4\n",
      "855943    4\n",
      "855944    4\n",
      "855945    4\n",
      "855946    4\n",
      "855947    4\n",
      "855948    4\n",
      "855949    4\n",
      "855950    4\n",
      "855951    4\n",
      "855952    4\n",
      "855953    4\n",
      "855954    4\n",
      "855955    2\n",
      "855956    4\n",
      "855957    4\n",
      "855958    4\n",
      "855959    3\n",
      "855960    3\n",
      "855961    4\n",
      "855962    4\n",
      "855963    4\n",
      "855964    3\n",
      "855965    4\n",
      "855966    3\n",
      "855967    4\n",
      "855968    3\n",
      "Name: pub_rec, Length: 788608, dtype: int64\n"
     ]
    },
    {
     "name": "stderr",
     "output_type": "stream",
     "text": [
      "C:\\Users\\users1\\Anaconda3\\lib\\site-packages\\ipykernel_launcher.py:15: SettingWithCopyWarning: \n",
      "A value is trying to be set on a copy of a slice from a DataFrame.\n",
      "Try using .loc[row_indexer,col_indexer] = value instead\n",
      "\n",
      "See the caveats in the documentation: http://pandas.pydata.org/pandas-docs/stable/indexing.html#indexing-view-versus-copy\n",
      "  from ipykernel import kernelapp as app\n"
     ]
    }
   ],
   "source": [
    "print(df3['pub_rec'].unique())\n",
    "df3.pub_rec.isnull().sum()\n",
    "#%%\n",
    "def pub_rec_final(i):\n",
    "    if i == 0:\n",
    "        return(4)\n",
    "    elif i == 1:\n",
    "        return(3)\n",
    "    elif i == 2:\n",
    "        return(2)\n",
    "    elif i == 3:\n",
    "        return(1)\n",
    "    else:\n",
    "        return(0)\n",
    "df3['pub_rec']= df3['pub_rec'].apply(pub_rec_final)\n",
    "print(df3.pub_rec) "
   ]
  },
  {
   "cell_type": "markdown",
   "metadata": {},
   "source": [
    "### delinq_2yrs Labealing"
   ]
  },
  {
   "cell_type": "code",
   "execution_count": 91,
   "metadata": {},
   "outputs": [
    {
     "name": "stdout",
     "output_type": "stream",
     "text": [
      "39694     4\n",
      "39695     4\n",
      "39696     4\n",
      "39697     4\n",
      "39698     4\n",
      "39699     4\n",
      "39700     3\n",
      "39701     4\n",
      "39702     2\n",
      "39703     4\n",
      "39704     4\n",
      "39705     4\n",
      "39706     3\n",
      "39707     3\n",
      "39708     4\n",
      "39709     4\n",
      "39710     4\n",
      "39711     4\n",
      "39712     4\n",
      "39713     4\n",
      "39714     4\n",
      "39715     3\n",
      "39716     4\n",
      "39717     4\n",
      "39718     3\n",
      "39719     4\n",
      "39720     4\n",
      "39721     4\n",
      "39722     4\n",
      "39723     4\n",
      "         ..\n",
      "855939    4\n",
      "855940    3\n",
      "855941    4\n",
      "855942    4\n",
      "855943    4\n",
      "855944    4\n",
      "855945    4\n",
      "855946    4\n",
      "855947    4\n",
      "855948    4\n",
      "855949    4\n",
      "855950    3\n",
      "855951    4\n",
      "855952    4\n",
      "855953    3\n",
      "855954    3\n",
      "855955    2\n",
      "855956    4\n",
      "855957    4\n",
      "855958    4\n",
      "855959    4\n",
      "855960    4\n",
      "855961    4\n",
      "855962    3\n",
      "855963    4\n",
      "855964    4\n",
      "855965    4\n",
      "855966    4\n",
      "855967    3\n",
      "855968    4\n",
      "Name: delinq_2yrs, Length: 788608, dtype: int64\n"
     ]
    },
    {
     "name": "stderr",
     "output_type": "stream",
     "text": [
      "C:\\Users\\users1\\Anaconda3\\lib\\site-packages\\ipykernel_launcher.py:14: SettingWithCopyWarning: \n",
      "A value is trying to be set on a copy of a slice from a DataFrame.\n",
      "Try using .loc[row_indexer,col_indexer] = value instead\n",
      "\n",
      "See the caveats in the documentation: http://pandas.pydata.org/pandas-docs/stable/indexing.html#indexing-view-versus-copy\n",
      "  \n"
     ]
    }
   ],
   "source": [
    "df3.delinq_2yrs.isnull().sum()\n",
    "#%%\n",
    "def delinq_2yrs_final(i):\n",
    "    if i == 0:\n",
    "        return(4)\n",
    "    elif i == 1:\n",
    "        return(3)\n",
    "    elif i == 2:\n",
    "        return(2)\n",
    "    elif i == 3:\n",
    "        return(1)\n",
    "    else:\n",
    "        return(0)\n",
    "df3['delinq_2yrs']= df3['delinq_2yrs'].apply(delinq_2yrs_final)\n",
    "print(df3.delinq_2yrs)\n"
   ]
  },
  {
   "cell_type": "code",
   "execution_count": 60,
   "metadata": {},
   "outputs": [
    {
     "name": "stdout",
     "output_type": "stream",
     "text": [
      "<class 'pandas.core.frame.DataFrame'>\n",
      "Int64Index: 788608 entries, 39694 to 855968\n",
      "Data columns (total 36 columns):\n",
      "id                            788608 non-null int64\n",
      "loan_amnt                     788608 non-null float64\n",
      "term                          788608 non-null int64\n",
      "int_rate                      788608 non-null float64\n",
      "installment                   788608 non-null float64\n",
      "grade                         788608 non-null int64\n",
      "emp_length                    788608 non-null int64\n",
      "home_ownership                788608 non-null int64\n",
      "annual_inc                    788608 non-null float64\n",
      "verification_status           788608 non-null object\n",
      "issue_d                       788608 non-null datetime64[ns]\n",
      "purpose                       788608 non-null int64\n",
      "dti                           788608 non-null float64\n",
      "delinq_2yrs                   788608 non-null int64\n",
      "earliest_cr_line              788608 non-null int64\n",
      "open_acc                      788608 non-null int64\n",
      "pub_rec                       788608 non-null int64\n",
      "revol_bal                     788608 non-null float64\n",
      "revol_util                    788608 non-null float64\n",
      "initial_list_status           788608 non-null int64\n",
      "out_prncp                     788608 non-null float64\n",
      "total_pymnt                   788608 non-null float64\n",
      "total_rec_prncp               788608 non-null float64\n",
      "total_rec_int                 788608 non-null float64\n",
      "total_rec_late_fee            788608 non-null float64\n",
      "recoveries                    788608 non-null float64\n",
      "collection_recovery_fee       788608 non-null float64\n",
      "last_pymnt_d                  788608 non-null int64\n",
      "last_pymnt_amnt               788608 non-null float64\n",
      "last_credit_pull_d            788608 non-null int64\n",
      "collections_12_mths_ex_med    788608 non-null float64\n",
      "application_type              788608 non-null int64\n",
      "acc_now_delinq                788608 non-null float64\n",
      "tot_cur_bal                   788608 non-null float64\n",
      "total_rev_hi_lim              788608 non-null float64\n",
      "default_ind                   788608 non-null int64\n",
      "dtypes: datetime64[ns](1), float64(19), int64(15), object(1)\n",
      "memory usage: 222.6+ MB\n"
     ]
    }
   ],
   "source": [
    "df3.info()"
   ]
  },
  {
   "cell_type": "markdown",
   "metadata": {},
   "source": [
    "## Split Train and Test data with issue_d date.( Train < 2015-06-01,test>= 2015-06-01)\n"
   ]
  },
  {
   "cell_type": "code",
   "execution_count": 92,
   "metadata": {},
   "outputs": [
    {
     "data": {
      "text/plain": [
       "(256984, 36)"
      ]
     },
     "execution_count": 92,
     "metadata": {},
     "output_type": "execute_result"
    }
   ],
   "source": [
    "\n",
    "df3.issue_d\n",
    "train_data=df3[df3['issue_d']<'2015-06-01']\n",
    "test_data=df3[df3['issue_d']>='2015-06-01']\n",
    "train_data.shape\n",
    "test_data.shape\n"
   ]
  },
  {
   "cell_type": "markdown",
   "metadata": {},
   "source": [
    "### Drop issue_d train and test"
   ]
  },
  {
   "cell_type": "code",
   "execution_count": 93,
   "metadata": {},
   "outputs": [],
   "source": [
    "\n",
    "train_data=train_data.drop('issue_d',axis=1)\n",
    "test_data=test_data.drop('issue_d',axis=1)"
   ]
  },
  {
   "cell_type": "markdown",
   "metadata": {},
   "source": [
    "### Creating training and testing datasets"
   ]
  },
  {
   "cell_type": "code",
   "execution_count": 94,
   "metadata": {},
   "outputs": [],
   "source": [
    "#%% Train\n",
    "X_train=train_data.values[:,1:-1]\n",
    "Y_train=train_data.values[:,-1]\n",
    "#%% Test\n",
    "X_test=test_data.values[:,1:-1]\n",
    "Y_test=test_data.values[:,-1]\n"
   ]
  },
  {
   "cell_type": "markdown",
   "metadata": {},
   "source": [
    "## Apply Logistic Regression Model and Predicting Output"
   ]
  },
  {
   "cell_type": "code",
   "execution_count": 95,
   "metadata": {},
   "outputs": [
    {
     "name": "stderr",
     "output_type": "stream",
     "text": [
      "IOPub data rate exceeded.\n",
      "The notebook server will temporarily stop sending output\n",
      "to the client in order to avoid crashing it.\n",
      "To change this limit, set the config variable\n",
      "`--NotebookApp.iopub_data_rate_limit`.\n",
      "\n",
      "Current values:\n",
      "NotebookApp.iopub_data_rate_limit=1000000.0 (bytes/sec)\n",
      "NotebookApp.rate_limit_window=3.0 (secs)\n",
      "\n"
     ]
    }
   ],
   "source": [
    "from sklearn.linear_model import LogisticRegression\n",
    "LR = (LogisticRegression())\n",
    "LR.fit(X_train, Y_train)\n",
    "Y_pred=LR.predict(X_test)\n",
    "print(list(zip(Y_test,Y_pred)))"
   ]
  },
  {
   "cell_type": "markdown",
   "metadata": {},
   "source": [
    "## Evaluate the model using confusion_matrix,accuracy_score,classification_report"
   ]
  },
  {
   "cell_type": "code",
   "execution_count": 96,
   "metadata": {},
   "outputs": [
    {
     "name": "stdout",
     "output_type": "stream",
     "text": [
      "[[256638     35]\n",
      " [    63    248]]\n",
      "Classification report:\n",
      "             precision    recall  f1-score   support\n",
      "\n",
      "        0.0       1.00      1.00      1.00    256673\n",
      "        1.0       0.88      0.80      0.84       311\n",
      "\n",
      "avg / total       1.00      1.00      1.00    256984\n",
      "\n",
      "Accuracy of the model: 0.9996186533013729\n"
     ]
    }
   ],
   "source": [
    "\n",
    "from sklearn.metrics import confusion_matrix,accuracy_score,classification_report\n",
    "cfm=confusion_matrix(Y_test,Y_pred)\n",
    "print(cfm)\n",
    "print(\"Classification report:\")\n",
    "print(classification_report(Y_test,Y_pred))\n",
    "acc=accuracy_score(Y_test,Y_pred)\n",
    "print(\"Accuracy of the model:\",acc)"
   ]
  },
  {
   "cell_type": "markdown",
   "metadata": {},
   "source": [
    "### Checking prediction probability manual changing threshold"
   ]
  },
  {
   "cell_type": "code",
   "execution_count": 97,
   "metadata": {},
   "outputs": [
    {
     "name": "stdout",
     "output_type": "stream",
     "text": [
      "[[9.99970587e-01 2.94127838e-05]\n",
      " [9.99777172e-01 2.22828324e-04]\n",
      " [9.92378741e-01 7.62125910e-03]\n",
      " ...\n",
      " [9.99929715e-01 7.02852183e-05]\n",
      " [9.99858816e-01 1.41183851e-04]\n",
      " [9.99998925e-01 1.07457201e-06]]\n",
      "[[256619     54]\n",
      " [    63    248]]\n",
      "Accuracy of the model:  0.9995447187373533\n",
      "             precision    recall  f1-score   support\n",
      "\n",
      "        0.0       1.00      1.00      1.00    256673\n",
      "        1.0       0.82      0.80      0.81       311\n",
      "\n",
      "avg / total       1.00      1.00      1.00    256984\n",
      "\n"
     ]
    }
   ],
   "source": [
    "\n",
    "y_pred_prob=LR.predict_proba(X_test)\n",
    "print(y_pred_prob)\n",
    "\n",
    "\n",
    "y_pred_class=[]\n",
    "for value in y_pred_prob[:,0]:\n",
    "    if value < 0.70:\n",
    "        y_pred_class.append(1)\n",
    "    else:\n",
    "        y_pred_class.append(0)\n",
    "        \n",
    "        \n",
    "from sklearn.metrics import confusion_matrix, accuracy_score\n",
    "\n",
    "cfm=confusion_matrix(Y_test.tolist(),y_pred_class)\n",
    "print(cfm)\n",
    "acc=accuracy_score(Y_test.tolist(),y_pred_class)\n",
    "\n",
    "print(\"Accuracy of the model: \", acc)\n",
    "print(classification_report(Y_test.tolist(),y_pred_class)) \n",
    "\n"
   ]
  },
  {
   "cell_type": "markdown",
   "metadata": {},
   "source": [
    "### Running for loop for treshold\n"
   ]
  },
  {
   "cell_type": "code",
   "execution_count": 99,
   "metadata": {},
   "outputs": [
    {
     "name": "stdout",
     "output_type": "stream",
     "text": [
      "erros at threshold  0.9500000000000001 : 7521 ,type 2 error : 60 type 1 error :\n"
     ]
    }
   ],
   "source": [
    "\n",
    "for a in np.arange(0,1,0.05):\n",
    "\n",
    "    predict_mine=np.where(y_pred_prob[:,0] < a, 1 ,0)\n",
    "cfm=confusion_matrix(Y_test.tolist(),predict_mine)\n",
    "total_err=cfm[0,1]+cfm[1,0] \n",
    "print(\"erros at threshold \",a,\":\",total_err,\",type 2 error :\", cfm[1,0],\"type 1 error :\")\n"
   ]
  },
  {
   "cell_type": "markdown",
   "metadata": {},
   "source": [
    "## AUC checking,plot Receiver operating Characteristic(ROC)"
   ]
  },
  {
   "cell_type": "code",
   "execution_count": 100,
   "metadata": {},
   "outputs": [
    {
     "name": "stdout",
     "output_type": "stream",
     "text": [
      "0.8986086341570166\n"
     ]
    },
    {
     "data": {
      "image/png": "[encoded data removed]",
      "text/plain": [
       "<Figure size 432x288 with 1 Axes>"
      ]
     },
     "metadata": {},
     "output_type": "display_data"
    }
   ],
   "source": [
    "\n",
    "from sklearn import metrics\n",
    "fpr, tpr,threshold = metrics.roc_curve(Y_test.tolist(),y_pred_class)\n",
    "auc = metrics.auc(fpr,tpr)\n",
    "print(auc)\n",
    "\n",
    "\n",
    "plt.title('Receiver operating Characteristic')\n",
    "plt.plot(fpr, tpr,'b',label = auc) \n",
    "plt.legend(loc = 'lower right')\n",
    "plt.plot([0,1],[0,1],'r--')\n",
    "plt.xlim([0,1])\n",
    "plt.ylim([0,1])\n",
    "plt.xlabel('False Positive Rate')\n",
    "plt.ylabel('True Positive Rate')\n",
    "plt.show()\n"
   ]
  },
  {
   "cell_type": "markdown",
   "metadata": {},
   "source": [
    "##  Model 2 = predicting using the extratreesclassifier"
   ]
  },
  {
   "cell_type": "code",
   "execution_count": 101,
   "metadata": {},
   "outputs": [],
   "source": [
    "\n",
    "from sklearn.ensemble import ExtraTreesClassifier\n",
    "model=(ExtraTreesClassifier(51))\n",
    "#fit the model on data and predict values\n",
    "model=model.fit(X_train,Y_train)\n",
    "Y_pred=model.predict(X_test)"
   ]
  },
  {
   "cell_type": "code",
   "execution_count": 102,
   "metadata": {},
   "outputs": [
    {
     "name": "stdout",
     "output_type": "stream",
     "text": [
      "[[180838  75835]\n",
      " [    17    294]]\n",
      "0.7048376552625845\n",
      "             precision    recall  f1-score   support\n",
      "\n",
      "        0.0       1.00      0.70      0.83    256673\n",
      "        1.0       0.00      0.95      0.01       311\n",
      "\n",
      "avg / total       1.00      0.70      0.83    256984\n",
      "\n"
     ]
    }
   ],
   "source": [
    "from sklearn.metrics import confusion_matrix,accuracy_score,classification_report\n",
    "#confusion matrix\n",
    "print(confusion_matrix(Y_test,Y_pred))\n",
    "print(accuracy_score(Y_test,Y_pred))\n",
    "print(classification_report(Y_test,Y_pred))\n"
   ]
  },
  {
   "cell_type": "code",
   "execution_count": 103,
   "metadata": {},
   "outputs": [
    {
     "name": "stdout",
     "output_type": "stream",
     "text": [
      "0.8986086341570166\n"
     ]
    },
    {
     "data": {
      "image/png": "[encoded data removed]",
      "text/plain": [
       "<Figure size 432x288 with 1 Axes>"
      ]
     },
     "metadata": {},
     "output_type": "display_data"
    }
   ],
   "source": [
    "#%% AUC checking\n",
    "from sklearn import metrics\n",
    "fpr, tpr,threshold = metrics.roc_curve(Y_test.tolist(),y_pred_class)\n",
    "auc = metrics.auc(fpr,tpr)\n",
    "print(auc)\n",
    "#%% plot Receiver operating Characteristic(ROC) model 2 extra tree classifier\n",
    "\n",
    "plt.title('Receiver operating Characteristic')\n",
    "plt.plot(fpr, tpr,'b',label = auc) \n",
    "plt.legend(loc = 'lower right')\n",
    "plt.plot([0,1],[0,1],'r--')\n",
    "plt.xlim([0,1])\n",
    "plt.ylim([0,1])\n",
    "plt.xlabel('False Positive Rate')\n",
    "plt.ylabel('True Positive Rate')\n",
    "plt.show()\n"
   ]
  },
  {
   "cell_type": "code",
   "execution_count": null,
   "metadata": {},
   "outputs": [],
   "source": []
  }
 ],
 "metadata": {
  "kernelspec": {
   "display_name": "Python 3",
   "language": "python",
   "name": "python3"
  },
  "language_info": {
   "codemirror_mode": {
    "name": "ipython",
    "version": 3
   },
   "file_extension": ".py",
   "mimetype": "text/x-python",
   "name": "python",
   "nbconvert_exporter": "python",
   "pygments_lexer": "ipython3",
   "version": "3.6.5"
  }
 },
 "nbformat": 4,
 "nbformat_minor": 2
}
